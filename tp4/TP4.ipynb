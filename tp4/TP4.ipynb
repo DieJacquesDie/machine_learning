{
  "nbformat": 4,
  "nbformat_minor": 0,
  "metadata": {
    "colab": {
      "name": "TP4.ipynb",
      "provenance": []
    },
    "kernelspec": {
      "name": "python3",
      "display_name": "Python 3"
    }
  },
  "cells": [
    {
      "cell_type": "code",
      "metadata": {
        "id": "1xK4pvVXHPCr",
        "colab_type": "code",
        "colab": {}
      },
      "source": [
        "import numpy as np\n",
        "import matplotlib.pyplot as plt\n",
        "import random\n",
        "from sklearn.model_selection import train_test_split\n",
        "from sklearn import preprocessing\n",
        "from sklearn import neighbors\n",
        "from sklearn import metrics\n",
        "from sklearn.decomposition import PCA\n",
        "from scipy import optimize"
      ],
      "execution_count": 0,
      "outputs": []
    },
    {
      "cell_type": "markdown",
      "metadata": {
        "id": "ag7txoIEI_Zk",
        "colab_type": "text"
      },
      "source": [
        "**CHARGEMENT ET VISUALISATION DES DONNEES**"
      ]
    },
    {
      "cell_type": "code",
      "metadata": {
        "id": "Jf-yb_g-Ha57",
        "colab_type": "code",
        "outputId": "b073762b-c860-488f-cc57-6861539fad39",
        "colab": {
          "base_uri": "https://localhost:8080/",
          "height": 339
        }
      },
      "source": [
        "\n",
        "X_train, y_train, X_test, y_test = np.load(\"TP4.npy\",allow_pickle=True )\n",
        "\n",
        "T_train = X_train[np.where(y_train==1),:] \n",
        "T_train = np.reshape(T_train,(T_train.shape[1],T_train.shape[2] ))\n",
        "\n",
        "\n",
        "F_train = X_train[np.where(y_train==0),:] \n",
        "F_train = np.reshape(F_train,(F_train.shape[1],F_train.shape[2] ))\n",
        "\n",
        "\n",
        "\n",
        "\n",
        "plt.plot(F_train[:,0], F_train[:,1], '.b') \n",
        "print(np.shape(F_train))\n",
        "plt.show \n",
        "plt.plot(T_train[:,0], T_train[:,1], '.r') \n",
        "print(np.shape(T_train))\n",
        "plt.show\n",
        "print(np.shape(X_train))\n",
        "print(np.shape(X_test))"
      ],
      "execution_count": 42,
      "outputs": [
        {
          "output_type": "stream",
          "text": [
            "(22, 2)\n",
            "(68, 2)\n",
            "(90, 2)\n",
            "(30, 2)\n"
          ],
          "name": "stdout"
        },
        {
          "output_type": "display_data",
          "data": {
            "image/png": "[encoded data removed]",
            "text/plain": [
              "<Figure size 432x288 with 1 Axes>"
            ]
          },
          "metadata": {
            "tags": []
          }
        }
      ]
    },
    {
      "cell_type": "markdown",
      "metadata": {
        "id": "vjrzq29cKUST",
        "colab_type": "text"
      },
      "source": [
        "**Combien y a-t-il de points dans la base d’apprentissage ? Dans la base de test ? Quelle est la dimension des données ?**\n",
        "il y a 90 points dans la base de test a deux dimensions et 30 a deux dim dans la base de test\n"
      ]
    },
    {
      "cell_type": "markdown",
      "metadata": {
        "id": "tAMDc8xTLcLO",
        "colab_type": "text"
      },
      "source": [
        "# ESTIMATION DENSITE PROB"
      ]
    },
    {
      "cell_type": "markdown",
      "metadata": {
        "id": "lZq4K0d-NlrS",
        "colab_type": "text"
      },
      "source": [
        "norm2 va rendre la fonction qui renvoie l’estimation de la densité de probabilité en un point 𝒙.\n",
        "\n",
        "La formule de Parzen a pour rappel :"
      ]
    },
    {
      "cell_type": "markdown",
      "metadata": {
        "id": "5JxyPrAsQSsD",
        "colab_type": "text"
      },
      "source": [
        "![Texte alternatif…](https://wikimedia.org/api/rest_v1/media/math/render/svg/a66c0e14eac7d4f30f80c4263dd4ad935620ca4f)"
      ]
    },
    {
      "cell_type": "code",
      "metadata": {
        "id": "438oWZZrJZ_E",
        "colab_type": "code",
        "colab": {}
      },
      "source": [
        "def norm2(x, m, cov):\n",
        "\t  a = np.dot( np.transpose((x-m)), np.linalg.inv(cov) )\n",
        "\t  a = np.dot( a, (x-m) )\n",
        "\t  p = 1 / ( math.sqrt(2*math.pi*np.linalg.det(cov)) ) * math.exp( -0.5*a )\n",
        "\t  return p\n",
        "def ddp_parzen(x,X,cov):\n",
        "    P = 0\n",
        "    for i in range(len(X)):\n",
        "        P = P + norm2(x,X[i],cov)\n",
        "    P = P / X.shape[0]\n",
        "    return P"
      ],
      "execution_count": 0,
      "outputs": []
    },
    {
      "cell_type": "markdown",
      "metadata": {
        "id": "Ti6rX9SIRqix",
        "colab_type": "text"
      },
      "source": [
        "\n",
        "**Rappeler le principe de fonctionnement de l’estimation de densité de probabilité par noyau. Que représente le noyau ?**\n",
        "l’estimation par noyau (ou encore méthode de Parzen-Rosenblatt) est une méthode non-paramétrique d’estimation de la densité de probabilité d’une variable aléatoire"
      ]
    },
    {
      "cell_type": "markdown",
      "metadata": {
        "id": "I3pe24_2R8Fs",
        "colab_type": "text"
      },
      "source": [
        "le noyau K (généralement la densité d'une loi statistique) "
      ]
    },
    {
      "cell_type": "markdown",
      "metadata": {
        "id": "AGJGcRsmVYG5",
        "colab_type": "text"
      },
      "source": [
        "Pour les ddp, on va 'grider' nos données en faisant du 20*20=400 cases et calculer dans chacune des cases la ddp avec nos données"
      ]
    },
    {
      "cell_type": "code",
      "metadata": {
        "id": "H89_UnQ5RTe6",
        "colab_type": "code",
        "outputId": "a4041278-8d61-43e7-d605-57d966a46023",
        "colab": {
          "base_uri": "https://localhost:8080/",
          "height": 268
        }
      },
      "source": [
        "p1 = np.zeros((20,20))\n",
        "p2 = np.zeros((20,20))\n",
        "\n",
        "for s in range(1,4):\n",
        "  for x in range(20):\n",
        "    for y in range(20):\n",
        "      cov = np.array([[s*s,0],[0,s*s]])\n",
        "      p1[y,x] = ddp_parzen([x,y], T_train, cov)\n",
        "      p2[y,x] = ddp_parzen([x,y], F_train, cov)\n",
        "\n",
        "  plt.subplot(3,2,2*abs(s)-1)\n",
        "  plt.imshow(np.flipud(p1))\n",
        "  plt.subplot(3,2,2*abs(s))\n",
        "  plt.imshow(np.flipud(p2))"
      ],
      "execution_count": 64,
      "outputs": [
        {
          "output_type": "display_data",
          "data": {
            "image/png": "[encoded data removed]",
            "text/plain": [
              "<Figure size 432x288 with 6 Axes>"
            ]
          },
          "metadata": {
            "tags": []
          }
        }
      ]
    },
    {
      "cell_type": "markdown",
      "metadata": {
        "id": "ATqMNR8odqKd",
        "colab_type": "text"
      },
      "source": [
        "**Comment varient les ddp en fonction de cov ? Etait-ce prévisible ? A priori et sans faire le test, quelle valeur de cov pensez-vous adéquate pour faire la classification ?**"
      ]
    },
    {
      "cell_type": "markdown",
      "metadata": {
        "id": "gC6U7zF6ds1n",
        "colab_type": "text"
      },
      "source": [
        "plus cov est important plus la zone de p1 et p2 prennent de la place , on va chercher un cov tq les zones de p1 et p2 soient à l'image de  notre nuage de points. On remarque qu'a 2 on a une bonne representation de nos t_train / f_train."
      ]
    },
    {
      "cell_type": "markdown",
      "metadata": {
        "id": "JOCIr6HjVadz",
        "colab_type": "text"
      },
      "source": [
        "# classification bayesienne"
      ]
    },
    {
      "cell_type": "code",
      "metadata": {
        "id": "9028JDkLeELO",
        "colab_type": "code",
        "colab": {}
      },
      "source": [
        "def classif_bay(s,X):\n",
        "\n",
        "    cov = np.array([[s*s,0],[0,s*s]])\n",
        "    y = np.zeros(len(y_test))\n",
        "\n",
        "    for i in range(len(X)):\n",
        "      P0 = ddp_parzen(X[i], T_train, cov)\n",
        "      P1 = ddp_parzen(X[i], F_train, cov)\n",
        "      if P0 > P1:\n",
        "          y[i] = 1\n",
        "\n",
        "    return y\n"
      ],
      "execution_count": 0,
      "outputs": []
    },
    {
      "cell_type": "code",
      "metadata": {
        "id": "Oc3rfFc3Yb6k",
        "colab_type": "code",
        "colab": {
          "base_uri": "https://localhost:8080/",
          "height": 202
        },
        "outputId": "11f8b3bf-6429-4d01-dba2-e6933356c097"
      },
      "source": [
        "for s in np.arange(0.5, 5.5, 0.5):\n",
        "  y = classif_bay(s,X_test)\n",
        "  matrix = metrics.confusion_matrix(y,y_test) #y-> truth et y_test test....\n",
        "  taux = np.trace(matrix) / np.sum(matrix)\n",
        "  print (taux*100)"
      ],
      "execution_count": 50,
      "outputs": [
        {
          "output_type": "stream",
          "text": [
            "90.0\n",
            "90.0\n",
            "90.0\n",
            "90.0\n",
            "83.33333333333334\n",
            "83.33333333333334\n",
            "80.0\n",
            "76.66666666666667\n",
            "76.66666666666667\n",
            "73.33333333333333\n"
          ],
          "name": "stdout"
        }
      ]
    },
    {
      "cell_type": "markdown",
      "metadata": {
        "id": "elUNz3eUdtsy",
        "colab_type": "text"
      },
      "source": [
        "on s'aperçoit que le taux de reconnaissance diminue plus notre variance s grandit..On va alors optimiser la recherche de s (normalement les doux souvenirs du semestre 1 doivent revenir avec la fabuleuse madame Ossart mais surtout en lettres clignotantes et en gros dans le cerveau : \n",
        "d i c h o t o m i e"
      ]
    },
    {
      "cell_type": "code",
      "metadata": {
        "id": "ZuajMnXdZZVJ",
        "colab_type": "code",
        "colab": {}
      },
      "source": [
        "def minimisation( xMin , xMax , eps ):\n",
        "\n",
        "    iteration = 0\n",
        "    y = [0]*5\n",
        "    while (xMax - xMin > eps):\n",
        "        \n",
        "        # 5 points equidistants sur l'abscisse et leur valeur sur l'ordonnee\n",
        "        x = np.linspace(xMin,xMax,5)\n",
        "        for i in range(5):\n",
        "            y[i] = matrice_confustion( y_test , classif_bay(x[i], X_test) )\n",
        "\n",
        "        # Indice du minimum\n",
        "        n = np.argmax( y )\n",
        "        print(\"Taux =\",y[n])\n",
        "\n",
        "        # Cas extremes (fonctions monotones par exemple)\n",
        "        if n == 0:\n",
        "            xMin = x[n]\n",
        "        else:\n",
        "            xMin = x[n-1]\n",
        "            \n",
        "        if n == 4:\n",
        "            xMax = x[n]\n",
        "        else:\n",
        "            xMax = x[n+1]\n",
        "        \n",
        "        iteration += 1\n",
        "\n",
        "    return x[n]"
      ],
      "execution_count": 0,
      "outputs": []
    },
    {
      "cell_type": "code",
      "metadata": {
        "id": "dYPue9VFh6XS",
        "colab_type": "code",
        "colab": {
          "base_uri": "https://localhost:8080/",
          "height": 294
        },
        "outputId": "3e5b0e04-5644-4133-cbd8-35c38847679c"
      },
      "source": [
        "xMin, xMax, eps = -4 , 6 , 0.001\n",
        "m = minimisation( xMin , xMax , eps )\n",
        "print(\"On seuille a\",m,\"pour le meilleur taux de reconnaissance\")"
      ],
      "execution_count": 58,
      "outputs": [
        {
          "output_type": "stream",
          "text": [
            "Taux = 0.9\n",
            "Taux = 0.9\n",
            "Taux = 0.9\n",
            "Taux = 0.9\n",
            "Taux = 0.9\n",
            "Taux = 0.9\n",
            "Taux = 0.9\n",
            "Taux = 0.9\n",
            "Taux = 0.9\n",
            "Taux = 0.9\n",
            "Taux = 0.9\n",
            "Taux = 0.9\n",
            "Taux = 0.9\n",
            "Taux = 0.9\n",
            "On seuille a -2.18634033203125 pour le meilleur taux de reconnaissance\n"
          ],
          "name": "stdout"
        }
      ]
    },
    {
      "cell_type": "markdown",
      "metadata": {
        "id": "uXwUF-BUiSPa",
        "colab_type": "text"
      },
      "source": [
        "en jouant un peu avec les valeurs de xmin et xmax, on trouve que le meilleur seuil se trouve aux environs de -2\n",
        "\n",
        "---\n",
        "\n"
      ]
    }
  ]
}