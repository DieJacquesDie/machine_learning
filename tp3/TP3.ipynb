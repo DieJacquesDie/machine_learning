{
  "nbformat": 4,
  "nbformat_minor": 0,
  "metadata": {
    "colab": {
      "name": "TP3.ipynb",
      "provenance": [],
      "collapsed_sections": []
    },
    "kernelspec": {
      "name": "python3",
      "display_name": "Python 3"
    }
  },
  "cells": [
    {
      "cell_type": "code",
      "metadata": {
        "id": "TsvIDy7RJhvA",
        "colab_type": "code",
        "colab": {}
      },
      "source": [
        "import numpy as np\n",
        "import matplotlib.pyplot as plt\n",
        "import random\n",
        "from sklearn.model_selection import train_test_split\n",
        "from sklearn import preprocessing\n",
        "from sklearn import neighbors\n",
        "from sklearn import metrics\n",
        "from sklearn.decomposition import PCA\n",
        "import math"
      ],
      "execution_count": 0,
      "outputs": []
    },
    {
      "cell_type": "markdown",
      "metadata": {
        "id": "u7lL_IyQNLEe",
        "colab_type": "text"
      },
      "source": [
        "**On a récupéré dans X_train, y_train, les pixels des 26 premières images et dans X_test, y_test, ceux des 4 dernières images. Seul un pixel sur 2000 a été conservé pour avoir des temps de calcul raisonnables.**"
      ]
    },
    {
      "cell_type": "code",
      "metadata": {
        "id": "ufxEk1ZIJk5R",
        "colab_type": "code",
        "outputId": "25e6b5a1-7b83-463f-c3b5-8fdff6e4e8ea",
        "colab": {
          "base_uri": "https://localhost:8080/",
          "height": 320
        }
      },
      "source": [
        "X_train, y_train, X_test, y_test = np.load(\"TP3.npy\",allow_pickle=True )\n",
        "#pixel peau\n",
        "T_train = X_train[np.where(y_train==1),:] \n",
        "T_train = np.reshape(T_train,(T_train.shape[1],T_train.shape[2] ))\n",
        "\n",
        "#pixel non peau\n",
        "F_train = X_train[np.where(y_train==0),:] \n",
        "F_train = np.reshape(F_train,(F_train.shape[1],F_train.shape[2] ))\n",
        "\n",
        "plt.plot(F_train[:,0], F_train[:,1], '.b') \n",
        "print(np.shape(F_train))\n",
        "plt.show \n",
        "plt.plot(T_train[:,0], T_train[:,1], '.r') \n",
        "print(np.shape(T_train))\n",
        "plt.show\n",
        "#en rouge occurence pixel peau et en bleu occurence pixel non peau"
      ],
      "execution_count": 3,
      "outputs": [
        {
          "output_type": "stream",
          "text": [
            "(1731, 2)\n",
            "(639, 2)\n"
          ],
          "name": "stdout"
        },
        {
          "output_type": "execute_result",
          "data": {
            "text/plain": [
              "<function matplotlib.pyplot.show>"
            ]
          },
          "metadata": {
            "tags": []
          },
          "execution_count": 3
        },
        {
          "output_type": "display_data",
          "data": {
            "image/png": "[encoded data removed]",
            "text/plain": [
              "<Figure size 432x288 with 1 Axes>"
            ]
          },
          "metadata": {
            "tags": []
          }
        }
      ]
    },
    {
      "cell_type": "code",
      "metadata": {
        "id": "5naKWABKaHPZ",
        "colab_type": "code",
        "outputId": "1cb76c31-ed2b-4d70-a6f3-7b4d059e0488",
        "colab": {
          "base_uri": "https://localhost:8080/",
          "height": 35
        }
      },
      "source": [
        "print(y_train) # on remarque que y test ne possede que des val binaires 1 pour couleur peau, 0 sinon"
      ],
      "execution_count": 4,
      "outputs": [
        {
          "output_type": "stream",
          "text": [
            "[0 0 0 ... 1 0 0]\n"
          ],
          "name": "stdout"
        }
      ]
    },
    {
      "cell_type": "markdown",
      "metadata": {
        "id": "EIJReRMfJ5hK",
        "colab_type": "text"
      },
      "source": [
        "**Combien y a-t-il de pixels de teinte chaire ? de teinte non chaire ? Quelle est la dimension des données ?**\n",
        "\n",
        "(1731, 2)\n",
        "(639, 2)\n",
        "Il y a 2370 pixels de dimension 2 \n",
        "1731 pour F train -> pixel non peau avec y_test=0\n",
        "639 pour T Train -> pixel peau avec y_test=1\n"
      ]
    },
    {
      "cell_type": "markdown",
      "metadata": {
        "id": "dm-zz9mIKe7K",
        "colab_type": "text"
      },
      "source": [
        "## Estimation de la densité de probabilité a priori de la teinte chaire par une loi normale 2D avec des dimensions décorrélées"
      ]
    },
    {
      "cell_type": "code",
      "metadata": {
        "id": "V5QKUh4ATeQe",
        "colab_type": "code",
        "outputId": "48c8f8db-a1b2-4bfe-a97a-764e0661094d",
        "colab": {
          "base_uri": "https://localhost:8080/",
          "height": 54
        }
      },
      "source": [
        "m1=np.mean(T_train[:,0])\n",
        "m2=np.mean(T_train[:,1])\n",
        "print(m1,m2)\n",
        "std1=np.std(T_train[:,0])\n",
        "std2=np.std(T_train[:,1])\n",
        "print(std1,std2)"
      ],
      "execution_count": 5,
      "outputs": [
        {
          "output_type": "stream",
          "text": [
            "104.29577464788733 155.19405320813772\n",
            "9.067914388009926 11.607693835769547\n"
          ],
          "name": "stdout"
        }
      ]
    },
    {
      "cell_type": "markdown",
      "metadata": {
        "id": "1P2IS7KGT3TF",
        "colab_type": "text"
      },
      "source": [
        "* m1 m2 moyenne de T_train des composantes chromatiques Cb et Cr de chaque pixel\n",
        "* std1 et std2 ecart type de T_train de Cb et Cr de chaque pixel\n",
        "\n",
        "\n"
      ]
    },
    {
      "cell_type": "code",
      "metadata": {
        "id": "bu6buc1ZLToC",
        "colab_type": "code",
        "colab": {}
      },
      "source": [
        "def norm1(x,m,std):\n",
        "  return (1/(np.sqrt(2*np.pi)*std))*np.exp(-((x-m)**2)/(2*std**2))"
      ],
      "execution_count": 0,
      "outputs": []
    },
    {
      "cell_type": "markdown",
      "metadata": {
        "id": "fJcIeoh4Ung-",
        "colab_type": "text"
      },
      "source": [
        "**norm1 fonction pour estimer la densité de probabilité a priori des pixels de teinte chaire de la base d’apprentissage en un point x**"
      ]
    },
    {
      "cell_type": "code",
      "metadata": {
        "id": "gXTdGOftMY3s",
        "colab_type": "code",
        "colab": {}
      },
      "source": [
        "P1_train=[]\n",
        "for i in range(len(X_train)):\n",
        "  P1_train.append(norm1(X_train[i,0],m1,std1)*norm1(X_train[i,1],m2,std2))\n",
        "\n",
        "seuil=np.mean(P1_train)\n"
      ],
      "execution_count": 0,
      "outputs": []
    },
    {
      "cell_type": "markdown",
      "metadata": {
        "id": "JhDGGeGQVSJf",
        "colab_type": "text"
      },
      "source": [
        "Ici S correspondra à notre seuil, si le point x étudié n'a pas le bon seuil déterminé par Cb et Cr, il est assimilé à un pixel non chair ou chair dans l'autre cas"
      ]
    },
    {
      "cell_type": "code",
      "metadata": {
        "id": "GiYp2q2OVRkc",
        "colab_type": "code",
        "outputId": "07733b8c-c1eb-4e4e-9de0-2d45dc59417f",
        "colab": {
          "base_uri": "https://localhost:8080/",
          "height": 35
        }
      },
      "source": [
        "print(np.shape(P1_train))"
      ],
      "execution_count": 17,
      "outputs": [
        {
          "output_type": "stream",
          "text": [
            "(2370,)\n"
          ],
          "name": "stdout"
        }
      ]
    },
    {
      "cell_type": "markdown",
      "metadata": {
        "id": "1HVzi36WU54Y",
        "colab_type": "text"
      },
      "source": [
        "**Que représentent TP, TN, FP et FN ? Comment estimer le rappel et la précision ? Comment estimer le taux de bonne classification ? Pourquoi avoir choisi ce seuil initial ?**\n",
        "\n",
        "TP : pixel classe teinte chair etant teinte chair\n",
        "TN:pixel classe non teinte chair etant non teinte chair\n",
        "FP:pixel classe teinte chaire etant non teinte chair\n",
        "FN : pixel classe non teinte chair etant teinte chair\n"
      ]
    },
    {
      "cell_type": "code",
      "metadata": {
        "colab_type": "code",
        "outputId": "050b4646-fa8d-476d-fb30-f0c47934b412",
        "id": "R4P_LSvKWQqR",
        "colab": {
          "base_uri": "https://localhost:8080/",
          "height": 239
        }
      },
      "source": [
        "print(\"TP : pixels couleur chair trouvés chair\")\n",
        "print(\"FN : pixels couleur chair trouvés non chair\")\n",
        "print(\"TN : pixels couleur non chair trouvés non chair\")\n",
        "print(\"TP : pixels couleur non chair trouvés chair\")\n",
        "\n",
        "length=len(X_train)\n",
        "print(\"\\n\\nSeuil à  p = \" +str(seuil) )\n",
        "\n",
        "y_class = (P1_train > seuil)\n",
        "print(\"y_res.shape = \" + str(y_class.shape))\n",
        "\n",
        "\n",
        "\n",
        "matrix = metrics.confusion_matrix(y_train , y_class)\n",
        "print(matrix)\n",
        "taux = np.trace(matrix) / np.sum(matrix)\n",
        "print(\"\\nTaux de reconnaissance : \" + str(taux))"
      ],
      "execution_count": 18,
      "outputs": [
        {
          "output_type": "stream",
          "text": [
            "TP : pixels couleur chair trouvés chair\n",
            "FN : pixels couleur chair trouvés non chair\n",
            "TN : pixels couleur non chair trouvés non chair\n",
            "TP : pixels couleur non chair trouvés chair\n",
            "\n",
            "\n",
            "Seuil à  p = 0.0004021648006133216\n",
            "y_res.shape = (2370,)\n",
            "[[1344  387]\n",
            " [ 184  455]]\n",
            "\n",
            "Taux de reconnaissance : 0.7590717299578059\n"
          ],
          "name": "stdout"
        }
      ]
    },
    {
      "cell_type": "markdown",
      "metadata": {
        "id": "EJZmjVxjaLco",
        "colab_type": "text"
      },
      "source": [
        "* Un bon classificateur devra être •sensible : détecter les positifs = pourcentage de vrais positifs détectés\n",
        "* •spécifique : ne pas tout détecter comme positif = pourcentage de vrais négatifs détectés"
      ]
    },
    {
      "cell_type": "code",
      "metadata": {
        "id": "77lLzm9RaKD5",
        "colab_type": "code",
        "colab": {}
      },
      "source": [
        "Max = np.max(P1_train)\n",
        "ROCsensibilite=[]\n",
        "ROCspecificite=[]\n",
        "step = 100\n",
        "ROC = np.ones([step , 2])\n",
        "taux = np.ones(step)\n",
        "arr = np.arange(0,Max,Max/step)\n",
        "\n",
        "for i in range( step ):    \n",
        "    \n",
        "    seuil = arr[i] \n",
        "    y_class = (P1_train > seuil)\n",
        "    matrix = metrics.confusion_matrix(y_train , y_class)\n",
        "    taux = np.trace(matrix) / np.sum(matrix)\n",
        "    specificite=matrix[1,1] / (matrix[1,0] + matrix[1,1])\n",
        "    sensibilite= matrix[0,0] / (matrix[0,0] + matrix[0,1])\n",
        "\n",
        "    taux=(TP+TN)/(TP+TN+FN+FP)\n",
        "    ROCsensibilite.append(sensibilite)\n",
        "    ROCspecificite.append(1-specificite)\n"
      ],
      "execution_count": 0,
      "outputs": []
    },
    {
      "cell_type": "code",
      "metadata": {
        "id": "1eCyL17AcQbo",
        "colab_type": "code",
        "outputId": "c65ff01f-b3d3-40c0-e695-79aca462b0f9",
        "colab": {
          "base_uri": "https://localhost:8080/",
          "height": 295
        }
      },
      "source": [
        "plt.plot_date\n",
        "fig, ax = plt.subplots()\n",
        "ax.plot(ROCspecificite,ROCsensibilite)\n",
        "\n",
        "ax.set(xlabel='1-specificite', ylabel='sensibilite',\n",
        "       title='COURBE ROC GAUSS 1D')\n",
        "ax.grid()\n"
      ],
      "execution_count": 20,
      "outputs": [
        {
          "output_type": "display_data",
          "data": {
            "image/png": "[encoded data removed]",
            "text/plain": [
              "<Figure size 432x288 with 1 Axes>"
            ]
          },
          "metadata": {
            "tags": []
          }
        }
      ]
    },
    {
      "cell_type": "markdown",
      "metadata": {
        "id": "8peBWZCLeivI",
        "colab_type": "text"
      },
      "source": [
        "on veut s'approcher du point 0,1\n",
        "\n"
      ]
    },
    {
      "cell_type": "markdown",
      "metadata": {
        "id": "sYPtcCXzeq1w",
        "colab_type": "text"
      },
      "source": [
        "# loi normale 2D"
      ]
    },
    {
      "cell_type": "code",
      "metadata": {
        "id": "vtRc9OMHedhH",
        "colab_type": "code",
        "colab": {}
      },
      "source": [
        "def norm2(x, m, cov):\n",
        "\t  a = np.dot( np.transpose((x-m)), np.linalg.inv(cov) )\n",
        "\t  a = np.dot( a, (x-m) )\n",
        "\t  p = 1 / ( math.sqrt(2*math.pi*np.linalg.det(cov)) ) * math.exp( -0.5*a )\n",
        "\t  return p"
      ],
      "execution_count": 0,
      "outputs": []
    },
    {
      "cell_type": "code",
      "metadata": {
        "id": "FFcwmgXRegWr",
        "colab_type": "code",
        "colab": {}
      },
      "source": [
        "length = len(X_train)\n",
        "p2_train = np.ones([length])\n",
        "i=0\n",
        "while i < length : \n",
        "    X = X_train[i,:]\n",
        "    p2_train[i] = norm2( X ,np.mean(T_train) ,  np.cov(T_train[:,0] , T_train[:,1]) )\n",
        "    i +=1\n",
        "    \n",
        "\n",
        "#ici x et y seront corrélés et on va appliquer le traitement gaussien à deux dimensions"
      ],
      "execution_count": 0,
      "outputs": []
    },
    {
      "cell_type": "code",
      "metadata": {
        "id": "2Ta6frd0iKeu",
        "colab_type": "code",
        "outputId": "4a12a2fc-5ff6-4f7d-f879-9583e833604b",
        "colab": {
          "base_uri": "https://localhost:8080/",
          "height": 295
        }
      },
      "source": [
        "Max = np.max(p2_train)\n",
        "ROCsensibilite2=[]\n",
        "ROCspecificite2=[]\n",
        "step = 100\n",
        "ROC = np.ones([step , 2])\n",
        "taux = np.ones(step)\n",
        "arr = np.arange(0,Max,Max/step)\n",
        "for i in range( step ):    \n",
        "    \n",
        "    seuil = arr[i] #variation du seuil de 0 à step\n",
        "    y_class = (p2_train > seuil)\n",
        "    matrix = metrics.confusion_matrix(y_train , y_class)\n",
        "    taux = np.trace(matrix) / np.sum(matrix)\n",
        "    specificite=matrix[1,1] / (matrix[1,0] + matrix[1,1])\n",
        "    sensibilite= matrix[0,0] / (matrix[0,0] + matrix[0,1])\n",
        "\n",
        "    taux=np.trace(matrix) / np.sum(matrix)\n",
        "    ROCsensibilite2.append(sensibilite)\n",
        "    ROCspecificite2.append(specificite)\n",
        "plt.plot_date\n",
        "fig, ax = plt.subplots()\n",
        "ax.plot(ROCspecificite2,np.flipud(ROCsensibilite2))\n",
        "\n",
        "ax.set(xlabel='1-specificite', ylabel='sensibilite',\n",
        "       title='COURBE ROC GAUSS 2D')\n",
        "ax.grid()\n"
      ],
      "execution_count": 27,
      "outputs": [
        {
          "output_type": "display_data",
          "data": {
            "image/png": "[encoded data removed]",
            "text/plain": [
              "<Figure size 432x288 with 1 Axes>"
            ]
          },
          "metadata": {
            "tags": []
          }
        }
      ]
    },
    {
      "cell_type": "code",
      "metadata": {
        "id": "4bjvLUh0W4O6",
        "colab_type": "code",
        "colab": {}
      },
      "source": [
        ""
      ],
      "execution_count": 0,
      "outputs": []
    }
  ]
}