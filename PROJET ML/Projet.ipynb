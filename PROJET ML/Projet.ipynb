{
  "nbformat": 4,
  "nbformat_minor": 0,
  "metadata": {
    "colab": {
      "name": "Projet.ipynb",
      "provenance": [],
      "collapsed_sections": []
    },
    "kernelspec": {
      "name": "python3",
      "display_name": "Python 3"
    }
  },
  "cells": [
    {
      "cell_type": "markdown",
      "metadata": {
        "id": "ccYUi93hpkmc",
        "colab_type": "text"
      },
      "source": [
        "#PROJET MACHINE LEARNING\n",
        "\n",
        "## KPPV\n",
        "\n",
        "###AVEC ACP"
      ]
    },
    {
      "cell_type": "markdown",
      "metadata": {
        "id": "xZf7hqGEqQaY",
        "colab_type": "text"
      },
      "source": [
        "On souhaite reconnaître des caractères manuscrits numérisés à l’aide d’un scanner. Les lettres se présentent sous la forme d’images de taille 12x12 pixels. Plusieurs exemples de chaque lettre sont donnés pour les lettres allant de B à K. Vous pourrez accéder aux données avec : X_train, X_test, y_train, y_test = np.load('data.npy')"
      ]
    },
    {
      "cell_type": "code",
      "metadata": {
        "id": "hRpcoGE9oVAi",
        "colab_type": "code",
        "colab": {}
      },
      "source": [
        "\n",
        "import numpy as np\n",
        "import matplotlib.pyplot as plt\n",
        "import random\n",
        "from sklearn.model_selection import train_test_split\n",
        "from sklearn import preprocessing\n",
        "from sklearn import neighbors\n",
        "from sklearn import metrics\n"
      ],
      "execution_count": 0,
      "outputs": []
    },
    {
      "cell_type": "markdown",
      "metadata": {
        "id": "-JsQpaCfDtKf",
        "colab_type": "text"
      },
      "source": [
        "# PREPROCESSING DES DATAS"
      ]
    },
    {
      "cell_type": "code",
      "metadata": {
        "id": "yREVPOitqJHb",
        "colab_type": "code",
        "colab": {}
      },
      "source": [
        "X_train, X_test, y_train, y_test = np.load(\"data.npy\",allow_pickle=True )"
      ],
      "execution_count": 0,
      "outputs": []
    },
    {
      "cell_type": "code",
      "metadata": {
        "id": "aM2pe6IhqVrq",
        "colab_type": "code",
        "outputId": "bbe6d985-9447-4ae7-beba-a11c57adc9ba",
        "colab": {
          "base_uri": "https://localhost:8080/",
          "height": 90
        }
      },
      "source": [
        "print(np.shape(X_train))\n",
        "print(np.shape(X_test))\n",
        "print(np.shape(y_train))\n",
        "print(np.shape(y_test))"
      ],
      "execution_count": 0,
      "outputs": [
        {
          "output_type": "stream",
          "text": [
            "(1875, 12, 12)\n",
            "(625, 12, 12)\n",
            "(1875,)\n",
            "(625,)\n"
          ],
          "name": "stdout"
        }
      ]
    },
    {
      "cell_type": "code",
      "metadata": {
        "id": "sl2xE1Mm0mbE",
        "colab_type": "code",
        "outputId": "f3c31843-0c54-48d6-cb1e-0b333a85581f",
        "colab": {
          "base_uri": "https://localhost:8080/",
          "height": 35
        }
      },
      "source": [
        "print(y_train)"
      ],
      "execution_count": 0,
      "outputs": [
        {
          "output_type": "stream",
          "text": [
            "[9 5 4 ... 5 6 4]\n"
          ],
          "name": "stdout"
        }
      ]
    },
    {
      "cell_type": "code",
      "metadata": {
        "id": "OP3kbPIntWqG",
        "colab_type": "code",
        "colab": {}
      },
      "source": [
        "\n",
        "\n",
        "def plot_gallery(images):\n",
        "  plt.figure(figsize=(7.2,7.2))\n",
        "  plt.subplots_adjust(bottom=0, left=.01, right=.99, top=.90, hspace=.35)\n",
        "  for i in range(12):\n",
        "    plt.subplot(3, 4, i + 1)\n",
        "    plt.imshow(images[i], cmap=plt.cm.gray)\n",
        "    plt.xticks(())\n",
        "    plt.yticks(())\n",
        "  plt.grid()\n",
        "  plt.show()"
      ],
      "execution_count": 0,
      "outputs": []
    },
    {
      "cell_type": "code",
      "metadata": {
        "id": "dTRI-YLTtXz3",
        "colab_type": "code",
        "outputId": "fae756c3-0a92-499b-8bbc-43d889e03d33",
        "colab": {
          "base_uri": "https://localhost:8080/",
          "height": 54
        }
      },
      "source": [
        "\n",
        "\n",
        "X_train=np.reshape(X_train,(X_train.shape[0],X_train.shape[1]*X_train.shape[2]))\n",
        "print(np.shape(X_train))\n",
        "X_test=np.reshape(X_test,(X_test.shape[0],X_test.shape[1]*X_test.shape[2]))\n",
        "print(np.shape(X_test))\n",
        "\n",
        "\n",
        "\n",
        "\n"
      ],
      "execution_count": 0,
      "outputs": [
        {
          "output_type": "stream",
          "text": [
            "(1875, 144)\n",
            "(625, 144)\n"
          ],
          "name": "stdout"
        }
      ]
    },
    {
      "cell_type": "code",
      "metadata": {
        "id": "Pp6nyUcMvACg",
        "colab_type": "code",
        "colab": {}
      },
      "source": [
        "X_scaled_train = preprocessing.StandardScaler().fit_transform(X_train)\n",
        "X_scaled_test=preprocessing.StandardScaler().fit_transform(X_test)"
      ],
      "execution_count": 0,
      "outputs": []
    },
    {
      "cell_type": "markdown",
      "metadata": {
        "id": "SncepByODxzX",
        "colab_type": "text"
      },
      "source": [
        "# KPPV"
      ]
    },
    {
      "cell_type": "code",
      "metadata": {
        "id": "EPL5KgzJzBc9",
        "colab_type": "code",
        "colab": {}
      },
      "source": [
        "from sklearn import decomposition\n",
        "def variationkppv2(n,distance):\n",
        "  classifier=neighbors.KNeighborsClassifier(n_neighbors=n,p=distance)\n",
        "  classifier.fit(X_scaled_train,y_train) \n",
        "  yPred=classifier.predict(X_scaled_test)\n",
        "  C2=metrics.confusion_matrix(y_test,yPred)\n",
        "  return np.sum(np.diag(C2))/np.sum(C2)*100\n",
        "\n",
        "def variationkppv2PCA(n,numbercomponents):\n",
        "  pca100=decomposition.PCA(n_components=numbercomponents)\n",
        "  xpcatrain = pca100.fit_transform(X_scaled_train)\n",
        "  xpcatest=pca100.transform(X_scaled_test) #PAS DE FIT !\n",
        "\n",
        "  classifier2=neighbors.KNeighborsClassifier(n_neighbors=n,p=1)\n",
        "  classifier2.fit(xpcatrain,y_train) \n",
        "  yPred=classifier2.predict(xpcatest)\n",
        "  C2=metrics.confusion_matrix( y_test, yPred)\n",
        "  return np.sum(np.diag(C2))/np.sum(C2)*100\n",
        "\n"
      ],
      "execution_count": 0,
      "outputs": []
    },
    {
      "cell_type": "code",
      "metadata": {
        "id": "K3kkka6bzOMf",
        "colab_type": "code",
        "colab": {}
      },
      "source": [
        "tabnoPCA=[0]*20\n",
        "tabnoPCAdist2=[0]*20\n",
        "for i in range(1,20):\n",
        "  tabnoPCA[i]=variationkppv2(i,1)\n",
        "  tabnoPCAdist2[i]=variationkppv2(i,2)\n"
      ],
      "execution_count": 0,
      "outputs": []
    },
    {
      "cell_type": "code",
      "metadata": {
        "id": "vbyU58iwzlju",
        "colab_type": "code",
        "outputId": "ce822af2-9732-45b3-8f45-483900de7020",
        "colab": {
          "base_uri": "https://localhost:8080/",
          "height": 295
        }
      },
      "source": [
        "def plot(datatab,nametab,title,xlabel,ylabel):\n",
        "  fig, ax = plt.subplots()\n",
        "  j=0\n",
        "  for i in range(len(datatab)) :\n",
        "    ax.plot(datatab[i],label=nametab[j]+\" \\n (max = \"+str(max(datatab[i]))+\"% a l'index \"+str(np.argmax(datatab[i]))+\")\")\n",
        "    j+=1\n",
        "  ax.set_ylabel(ylabel)\n",
        "  ax.set_xlabel(xlabel)\n",
        "  ax.set_title(title)\n",
        "  ax.grid()\n",
        "  ax.legend()\n",
        "\n",
        "\n",
        "\n",
        "plot([tabnoPCA,tabnoPCAdist2],[\"Distance de Manhattan\",\"Distance euclidienne\"],\"methode KPPV sans PCA\",\"nombre de voisins\",\"taux de reconnaissance en %\")"
      ],
      "execution_count": 0,
      "outputs": [
        {
          "output_type": "display_data",
          "data": {
            "image/png": "[encoded data removed]",
            "text/plain": [
              "<Figure size 432x288 with 1 Axes>"
            ]
          },
          "metadata": {
            "tags": [],
            "needs_background": "light"
          }
        }
      ]
    },
    {
      "cell_type": "code",
      "metadata": {
        "id": "ryynb_tdV8mp",
        "colab_type": "code",
        "outputId": "4018eb85-5bb9-4ac9-fe89-a0114fef8d06",
        "colab": {
          "base_uri": "https://localhost:8080/",
          "height": 295
        }
      },
      "source": [
        "\n",
        "tabPCA1=[0]*20\n",
        "tabPCA2=[0]*20\n",
        "tabPCA3=[0]*20\n",
        "for i in range(1,20):\n",
        "  tabPCA1[i]=variationkppv2PCA(i,2)\n",
        "  tabPCA2[i]=variationkppv2PCA(i,30)\n",
        "  tabPCA3[i]=variationkppv2PCA(i,140)\n",
        "plot([tabPCA1,tabPCA2,tabPCA3],[\"n_components=2\",\"n_components=30\",\"n_components=140\"],\"methode KPPV avec PCA et distance de Manhattan\",\"nombre de voisins\",\"taux de reconnaissance en %\")"
      ],
      "execution_count": 0,
      "outputs": [
        {
          "output_type": "display_data",
          "data": {
            "image/png": "[encoded data removed]",
            "text/plain": [
              "<Figure size 432x288 with 1 Axes>"
            ]
          },
          "metadata": {
            "tags": [],
            "needs_background": "light"
          }
        }
      ]
    },
    {
      "cell_type": "code",
      "metadata": {
        "id": "h6vWCm7-jBbb",
        "colab_type": "code",
        "outputId": "da796ebe-d2a9-434f-bd1c-4c1f36378db4",
        "colab": {
          "base_uri": "https://localhost:8080/",
          "height": 295
        }
      },
      "source": [
        "\n",
        "plot([tabPCA1],[\"best\"],\"methode KPPV sans PCA\",\"nombre de voisins\",\"taux de reconnaissance en %\")"
      ],
      "execution_count": 0,
      "outputs": [
        {
          "output_type": "display_data",
          "data": {
            "image/png": "[encoded data removed]",
            "text/plain": [
              "<Figure size 432x288 with 1 Axes>"
            ]
          },
          "metadata": {
            "tags": [],
            "needs_background": "light"
          }
        }
      ]
    },
    {
      "cell_type": "markdown",
      "metadata": {
        "id": "2_JKkViqD0I2",
        "colab_type": "text"
      },
      "source": [
        "# RANDOM FOREST"
      ]
    },
    {
      "cell_type": "code",
      "metadata": {
        "id": "XmUxe4aK1xDA",
        "colab_type": "code",
        "colab": {}
      },
      "source": [
        "from scipy import optimize\n",
        "from sklearn.tree import DecisionTreeClassifier\n",
        "from sklearn.model_selection import GridSearchCV\n",
        "from sklearn.ensemble import RandomForestClassifier"
      ],
      "execution_count": 0,
      "outputs": []
    },
    {
      "cell_type": "code",
      "metadata": {
        "id": "YiWVLUmIDfoM",
        "colab_type": "code",
        "colab": {}
      },
      "source": [
        "\n",
        "RF = RandomForestClassifier(criterion='entropy', n_estimators=100, random_state=1)\n",
        "RF.fit(X_train, y_train)\n",
        "\n",
        "def random_forest(x):\n",
        "  RF = RandomForestClassifier(criterion='entropy', n_estimators=x, random_state=1)\n",
        "  RF.fit(X_train, y_train)\n",
        "  y_pred = RF.predict(X_test)\n",
        "  C=metrics.confusion_matrix(y_test, y_pred)\n",
        "  return np.sum(np.diag(C))/np.sum(C)*100\n",
        "\n",
        "def random_forest_grid_opti(pas_n,pas_feature,pas_depth):\n",
        "\n",
        "\n",
        "  n_estimators = [x for x in range(1,300,pas_n)] \n",
        "  max_features = [x for x in np.arange(0.4,1.0,pas_feature)] \n",
        "  max_depth = [x for x in range(1,10,pas_depth)]\n",
        "  grid = { \"n_estimators\": n_estimators, \"max_features\": max_features, \"max_depth\": max_depth, }\n",
        "\n",
        "  RF = RandomForestClassifier(criterion='entropy', random_state=1)\n",
        "  RF.fit(X_train, y_train)\n",
        "  RF_Grid = GridSearchCV(estimator = RF, param_grid = grid, cv=3,verbose=2,n_jobs = -1,)\n",
        "  RF_Grid.fit(X_train, y_train)# print results print(RF_Grid.best_params_)\n",
        "\n",
        "  y_pred = RF_Grid.predict(X_test)\n",
        "  C=metrics.confusion_matrix(y_test, y_pred)\n",
        "  print(RF_Grid.best_params_)\n",
        "\n",
        "  return np.sum(np.diag(C))/np.sum(C)*100\n",
        "\n",
        "def plot(datatab,nametab,title,xlabel,ylabel):\n",
        "  fig, ax = plt.subplots()\n",
        "  j=0\n",
        "  for i in range(len(datatab)) :\n",
        "    ax.plot(datatab[i],label=nametab[j]+\" \\n (max = \"+str(max(datatab[i]))+\"% a l'index \"+str(np.argmax(datatab[i]))+\")\")\n",
        "    j+=1\n",
        "  ax.set_ylabel(ylabel)\n",
        "  ax.set_xlabel(xlabel)\n",
        "  ax.set_title(title)\n",
        "  ax.grid()\n",
        "  ax.legend()\n",
        "\n",
        "\n"
      ],
      "execution_count": 0,
      "outputs": []
    },
    {
      "cell_type": "code",
      "metadata": {
        "id": "wIVD2fCOE8lH",
        "colab_type": "code",
        "outputId": "65061e76-afa6-43be-d3cd-4435475f7423",
        "colab": {
          "base_uri": "https://localhost:8080/",
          "height": 164
        }
      },
      "source": [
        "print(random_forest_grid_opti(50,0.1,2))\n",
        "#plot([tabforest,tabforestgrid],[\"random forest classifier\",\"grid\"],\"titre\",\"x\",\"y\")"
      ],
      "execution_count": 0,
      "outputs": [
        {
          "output_type": "stream",
          "text": [
            "Fitting 3 folds for each of 180 candidates, totalling 540 fits\n"
          ],
          "name": "stdout"
        },
        {
          "output_type": "stream",
          "text": [
            "[Parallel(n_jobs=-1)]: Using backend LokyBackend with 2 concurrent workers.\n",
            "[Parallel(n_jobs=-1)]: Done  37 tasks      | elapsed:   29.5s\n",
            "[Parallel(n_jobs=-1)]: Done 158 tasks      | elapsed:  4.0min\n",
            "[Parallel(n_jobs=-1)]: Done 361 tasks      | elapsed: 20.1min\n",
            "[Parallel(n_jobs=-1)]: Done 540 out of 540 | elapsed: 41.1min finished\n"
          ],
          "name": "stderr"
        },
        {
          "output_type": "stream",
          "text": [
            "{'max_depth': 9, 'max_features': 0.4, 'n_estimators': 151}\n",
            "91.03999999999999\n"
          ],
          "name": "stdout"
        }
      ]
    },
    {
      "cell_type": "code",
      "metadata": {
        "id": "5iUWS6USFk-M",
        "colab_type": "code",
        "outputId": "af44f43f-80a0-4261-ac33-5d862407ac2f",
        "colab": {
          "base_uri": "https://localhost:8080/",
          "height": 35
        }
      },
      "source": [
        "RF = RandomForestClassifier(criterion='entropy', n_estimators=201, random_state=1,max_features=0.4,max_depth=11) \n",
        "RF.fit(X_train, y_train)\n",
        "y_pred = RF.predict(X_test)\n",
        "C=metrics.confusion_matrix(y_test, y_pred)\n",
        "print(np.sum(np.diag(C))/np.sum(C)*100)"
      ],
      "execution_count": 0,
      "outputs": [
        {
          "output_type": "stream",
          "text": [
            "91.03999999999999\n"
          ],
          "name": "stdout"
        }
      ]
    },
    {
      "cell_type": "code",
      "metadata": {
        "id": "cqJ4VbVgf9_e",
        "colab_type": "code",
        "outputId": "e3213935-f50d-4f74-8796-eac4a4a8ffed",
        "colab": {
          "base_uri": "https://localhost:8080/",
          "height": 296
        }
      },
      "source": [
        "#tabforest=[0]*100\n",
        "#for i in range(1,100):\n",
        "#  tabforest[i]=random_forest(i)\n",
        "plot([tabforest],[\" \"],\"methode random forest\",\"nombre de n_estimators\",\"taux de reconnaissance\")"
      ],
      "execution_count": 0,
      "outputs": [
        {
          "output_type": "display_data",
          "data": {
            "image/png": "[encoded data removed]",
            "text/plain": [
              "<Figure size 432x288 with 1 Axes>"
            ]
          },
          "metadata": {
            "tags": [],
            "needs_background": "light"
          }
        }
      ]
    },
    {
      "cell_type": "markdown",
      "metadata": {
        "id": "LTQzwTWAFtw0",
        "colab_type": "text"
      },
      "source": [
        "# SVM"
      ]
    },
    {
      "cell_type": "code",
      "metadata": {
        "id": "O2wkw9zAFrGA",
        "colab_type": "code",
        "colab": {}
      },
      "source": [
        "from sklearn import svm\n",
        "def svm_mult(x):\n",
        "  model = svm.SVC(kernel='linear', C=x)\n",
        "  model.fit(X_scaled_train, y_train)\n",
        "  y_pred = model.predict(X_scaled_test)\n",
        "  C=metrics.confusion_matrix(y_test, y_pred)\n",
        "  return np.sum(np.diag(C))/np.sum(C)*100\n",
        "\n",
        "def plot(datatab,nametab,title,xlabel,ylabel):\n",
        "  fig, ax = plt.subplots()\n",
        "  j=0\n",
        "  for i in range(len(datatab)) :\n",
        "    ax.plot(datatab[i],label=nametab[j]+\" \\n (max = \"+str(max(datatab[i]))+\"% a l'index \"+str(np.argmax(datatab[i]))+\")\")\n",
        "    j+=1\n",
        "  ax.set_ylabel(ylabel)\n",
        "  ax.set_xlabel(xlabel)\n",
        "  ax.set_title(title)\n",
        "  ax.grid()\n",
        "  ax.legend()\n"
      ],
      "execution_count": 0,
      "outputs": []
    },
    {
      "cell_type": "code",
      "metadata": {
        "id": "o06IWMDOHPUz",
        "colab_type": "code",
        "outputId": "9af3e4c4-a21a-49bb-bbd0-ea53d61b28b5",
        "colab": {
          "base_uri": "https://localhost:8080/",
          "height": 295
        }
      },
      "source": [
        "tabsvm=[0]*10\n",
        "for i in range(1,10):\n",
        "  tabsvm[i]=svm_mult(i)\n",
        "plot([tabsvm],[\"\"] ,\"Machine à vecteurs de support\",\"parametre de regularisation C\",\"taux de reconnaissance\")"
      ],
      "execution_count": 0,
      "outputs": [
        {
          "output_type": "display_data",
          "data": {
            "image/png": "[encoded data removed]",
            "text/plain": [
              "<Figure size 432x288 with 1 Axes>"
            ]
          },
          "metadata": {
            "tags": [],
            "needs_background": "light"
          }
        }
      ]
    },
    {
      "cell_type": "code",
      "metadata": {
        "id": "TUsSaM_WKF06",
        "colab_type": "code",
        "colab": {}
      },
      "source": [
        "from sklearn.model_selection import GridSearchCV\n",
        "def svc_param_selection(X, y, nfolds):\n",
        "    Cs = [0.001, 0.01, 0.1, 1, 10]\n",
        "    gammas = [0.001, 0.01, 0.1, 1]\n",
        "    kernel=['rbf','poly','linear']\n",
        "    param_grid = {'C': Cs, 'gamma' : gammas,'kernel': kernel}\n",
        "    grid_search = GridSearchCV(svm.SVC(), param_grid, cv=nfolds,verbose=1)\n",
        "    grid_search.fit(X, y)\n",
        "    grid_search.best_params_\n",
        "    return grid_search\n",
        "    #return grid_search.best_params_\n"
      ],
      "execution_count": 0,
      "outputs": []
    },
    {
      "cell_type": "code",
      "metadata": {
        "id": "SwVGvH1X9IsQ",
        "colab_type": "code",
        "outputId": "12a02769-4943-4c7d-940d-9d191c75200c",
        "colab": {
          "base_uri": "https://localhost:8080/",
          "height": 311
        }
      },
      "source": [
        "a=svc_param_selection(X_scaled_train, y_train,4)\n",
        "print(a)"
      ],
      "execution_count": 0,
      "outputs": [
        {
          "output_type": "stream",
          "text": [
            "Fitting 4 folds for each of 60 candidates, totalling 240 fits\n"
          ],
          "name": "stdout"
        },
        {
          "output_type": "stream",
          "text": [
            "[Parallel(n_jobs=1)]: Using backend SequentialBackend with 1 concurrent workers.\n",
            "[Parallel(n_jobs=1)]: Done 240 out of 240 | elapsed:  2.5min finished\n"
          ],
          "name": "stderr"
        },
        {
          "output_type": "stream",
          "text": [
            "GridSearchCV(cv=4, error_score=nan,\n",
            "             estimator=SVC(C=1.0, break_ties=False, cache_size=200,\n",
            "                           class_weight=None, coef0=0.0,\n",
            "                           decision_function_shape='ovr', degree=3,\n",
            "                           gamma='scale', kernel='rbf', max_iter=-1,\n",
            "                           probability=False, random_state=None, shrinking=True,\n",
            "                           tol=0.001, verbose=False),\n",
            "             iid='deprecated', n_jobs=None,\n",
            "             param_grid={'C': [0.001, 0.01, 0.1, 1, 10],\n",
            "                         'gamma': [0.001, 0.01, 0.1, 1],\n",
            "                         'kernel': ['rbf', 'poly', 'linear']},\n",
            "             pre_dispatch='2*n_jobs', refit=True, return_train_score=False,\n",
            "             scoring=None, verbose=1)\n"
          ],
          "name": "stdout"
        }
      ]
    },
    {
      "cell_type": "code",
      "metadata": {
        "id": "6WuYRmcODxro",
        "colab_type": "code",
        "colab": {}
      },
      "source": [
        "import numpy  as np\n",
        "import pandas as pd\n",
        "\n",
        "from sklearn import svm, datasets\n",
        "from sklearn.model_selection import GridSearchCV\n",
        "\n",
        "def GridSearch_table_plot(grid_clf, param_name,\n",
        "                          num_results=15,\n",
        "                          negative=True,\n",
        "                          graph=True,\n",
        "                          display_all_params=True):\n",
        "\n",
        "    '''Display grid search results\n",
        "\n",
        "    Arguments\n",
        "    ---------\n",
        "\n",
        "    grid_clf           the estimator resulting from a grid search\n",
        "                       for example: grid_clf = GridSearchCV( ...\n",
        "\n",
        "    param_name         a string with the name of the parameter being tested\n",
        "\n",
        "    num_results        an integer indicating the number of results to display\n",
        "                       Default: 15\n",
        "\n",
        "    negative           boolean: should the sign of the score be reversed?\n",
        "                       scoring = 'neg_log_loss', for instance\n",
        "                       Default: True\n",
        "\n",
        "    graph              boolean: should a graph be produced?\n",
        "                       non-numeric parameters (True/False, None) don't graph well\n",
        "                       Default: True\n",
        "\n",
        "    display_all_params boolean: should we print out all of the parameters, not just the ones searched for?\n",
        "                       Default: True\n",
        "\n",
        "    Usage\n",
        "    -----\n",
        "\n",
        "    GridSearch_table_plot(grid_clf, \"min_samples_leaf\")\n",
        "\n",
        "                          '''\n",
        "    from matplotlib      import pyplot as plt\n",
        "    from IPython.display import display\n",
        "    import pandas as pd\n",
        "\n",
        "    clf = grid_clf.best_estimator_\n",
        "    clf_params = grid_clf.best_params_\n",
        "    if negative:\n",
        "        clf_score = -grid_clf.best_score_\n",
        "    else:\n",
        "        clf_score = grid_clf.best_score_\n",
        "    clf_stdev = grid_clf.cv_results_['std_test_score'][grid_clf.best_index_]\n",
        "    cv_results = grid_clf.cv_results_\n",
        "\n",
        "    print(\"best parameters: {}\".format(clf_params))\n",
        "    print(\"best score:      {:0.5f} (+/-{:0.5f})\".format(clf_score, clf_stdev))\n",
        "    if display_all_params:\n",
        "        import pprint\n",
        "        pprint.pprint(clf.get_params())\n",
        "\n",
        "    # pick out the best results\n",
        "    # =========================\n",
        "    scores_df = pd.DataFrame(cv_results).sort_values(by='rank_test_score')\n",
        "\n",
        "    best_row = scores_df.iloc[0, :]\n",
        "    if negative:\n",
        "        best_mean = -best_row['mean_test_score']\n",
        "    else:\n",
        "        best_mean = best_row['mean_test_score']\n",
        "    best_stdev = best_row['std_test_score']\n",
        "    best_param = best_row['param_' + param_name]\n",
        "\n",
        "    # display the top 'num_results' results\n",
        "    # =====================================\n",
        "    display(pd.DataFrame(cv_results) \\\n",
        "            .sort_values(by='rank_test_score').head(num_results))\n",
        "\n",
        "    # plot the results\n",
        "    # ================\n",
        "    scores_df = scores_df.sort_values(by='param_' + param_name)\n",
        "\n",
        "    if negative:\n",
        "        means = -scores_df['mean_test_score']\n",
        "    else:\n",
        "        means = scores_df['mean_test_score']\n",
        "    stds = scores_df['std_test_score']\n",
        "    params = scores_df['param_' + param_name]\n",
        "\n",
        "    # plot\n",
        "    if graph:\n",
        "        plt.figure(figsize=(8, 8))\n",
        "        plt.errorbar(params, means, yerr=stds)\n",
        "\n",
        "        plt.axhline(y=best_mean + best_stdev, color='red')\n",
        "        plt.axhline(y=best_mean - best_stdev, color='red')\n",
        "        plt.plot(best_param, best_mean, 'or')\n",
        "\n",
        "        plt.title(param_name + \" vs Score\\nBest Score {:0.5f}\".format(clf_score))\n",
        "        plt.xlabel(param_name)\n",
        "        plt.ylabel('Score')\n",
        "        plt.show()"
      ],
      "execution_count": 0,
      "outputs": []
    },
    {
      "cell_type": "code",
      "metadata": {
        "id": "39EEBAl8FicP",
        "colab_type": "code",
        "outputId": "8631e5ea-a84e-4d63-9294-de8a4bded716",
        "colab": {
          "base_uri": "https://localhost:8080/",
          "height": 1000
        }
      },
      "source": [
        "GridSearch_table_plot(a, \"C\", negative=False)"
      ],
      "execution_count": 0,
      "outputs": [
        {
          "output_type": "stream",
          "text": [
            "best parameters: {'C': 0.001, 'gamma': 1, 'kernel': 'poly'}\n",
            "best score:      0.92107 (+/-0.01573)\n",
            "{'C': 0.001,\n",
            " 'break_ties': False,\n",
            " 'cache_size': 200,\n",
            " 'class_weight': None,\n",
            " 'coef0': 0.0,\n",
            " 'decision_function_shape': 'ovr',\n",
            " 'degree': 3,\n",
            " 'gamma': 1,\n",
            " 'kernel': 'poly',\n",
            " 'max_iter': -1,\n",
            " 'probability': False,\n",
            " 'random_state': None,\n",
            " 'shrinking': True,\n",
            " 'tol': 0.001,\n",
            " 'verbose': False}\n"
          ],
          "name": "stdout"
        },
        {
          "output_type": "display_data",
          "data": {
            "text/html": [
              "<div>\n",
              "<style scoped>\n",
              "    .dataframe tbody tr th:only-of-type {\n",
              "        vertical-align: middle;\n",
              "    }\n",
              "\n",
              "    .dataframe tbody tr th {\n",
              "        vertical-align: top;\n",
              "    }\n",
              "\n",
              "    .dataframe thead th {\n",
              "        text-align: right;\n",
              "    }\n",
              "</style>\n",
              "<table border=\"1\" class=\"dataframe\">\n",
              "  <thead>\n",
              "    <tr style=\"text-align: right;\">\n",
              "      <th></th>\n",
              "      <th>mean_fit_time</th>\n",
              "      <th>std_fit_time</th>\n",
              "      <th>mean_score_time</th>\n",
              "      <th>std_score_time</th>\n",
              "      <th>param_C</th>\n",
              "      <th>param_gamma</th>\n",
              "      <th>param_kernel</th>\n",
              "      <th>params</th>\n",
              "      <th>split0_test_score</th>\n",
              "      <th>split1_test_score</th>\n",
              "      <th>split2_test_score</th>\n",
              "      <th>split3_test_score</th>\n",
              "      <th>mean_test_score</th>\n",
              "      <th>std_test_score</th>\n",
              "      <th>rank_test_score</th>\n",
              "    </tr>\n",
              "  </thead>\n",
              "  <tbody>\n",
              "    <tr>\n",
              "      <th>58</th>\n",
              "      <td>0.486133</td>\n",
              "      <td>0.010928</td>\n",
              "      <td>0.099010</td>\n",
              "      <td>0.001771</td>\n",
              "      <td>10</td>\n",
              "      <td>1</td>\n",
              "      <td>poly</td>\n",
              "      <td>{'C': 10, 'gamma': 1, 'kernel': 'poly'}</td>\n",
              "      <td>0.923241</td>\n",
              "      <td>0.938166</td>\n",
              "      <td>0.895522</td>\n",
              "      <td>0.927350</td>\n",
              "      <td>0.921070</td>\n",
              "      <td>0.015725</td>\n",
              "      <td>1</td>\n",
              "    </tr>\n",
              "    <tr>\n",
              "      <th>34</th>\n",
              "      <td>0.487282</td>\n",
              "      <td>0.011979</td>\n",
              "      <td>0.099033</td>\n",
              "      <td>0.001168</td>\n",
              "      <td>0.1</td>\n",
              "      <td>1</td>\n",
              "      <td>poly</td>\n",
              "      <td>{'C': 0.1, 'gamma': 1, 'kernel': 'poly'}</td>\n",
              "      <td>0.923241</td>\n",
              "      <td>0.938166</td>\n",
              "      <td>0.895522</td>\n",
              "      <td>0.927350</td>\n",
              "      <td>0.921070</td>\n",
              "      <td>0.015725</td>\n",
              "      <td>1</td>\n",
              "    </tr>\n",
              "    <tr>\n",
              "      <th>55</th>\n",
              "      <td>0.492982</td>\n",
              "      <td>0.005423</td>\n",
              "      <td>0.099320</td>\n",
              "      <td>0.001165</td>\n",
              "      <td>10</td>\n",
              "      <td>0.1</td>\n",
              "      <td>poly</td>\n",
              "      <td>{'C': 10, 'gamma': 0.1, 'kernel': 'poly'}</td>\n",
              "      <td>0.923241</td>\n",
              "      <td>0.938166</td>\n",
              "      <td>0.895522</td>\n",
              "      <td>0.927350</td>\n",
              "      <td>0.921070</td>\n",
              "      <td>0.015725</td>\n",
              "      <td>1</td>\n",
              "    </tr>\n",
              "    <tr>\n",
              "      <th>52</th>\n",
              "      <td>0.488718</td>\n",
              "      <td>0.009146</td>\n",
              "      <td>0.098866</td>\n",
              "      <td>0.001620</td>\n",
              "      <td>10</td>\n",
              "      <td>0.01</td>\n",
              "      <td>poly</td>\n",
              "      <td>{'C': 10, 'gamma': 0.01, 'kernel': 'poly'}</td>\n",
              "      <td>0.923241</td>\n",
              "      <td>0.938166</td>\n",
              "      <td>0.895522</td>\n",
              "      <td>0.927350</td>\n",
              "      <td>0.921070</td>\n",
              "      <td>0.015725</td>\n",
              "      <td>1</td>\n",
              "    </tr>\n",
              "    <tr>\n",
              "      <th>22</th>\n",
              "      <td>0.488710</td>\n",
              "      <td>0.014880</td>\n",
              "      <td>0.098170</td>\n",
              "      <td>0.001514</td>\n",
              "      <td>0.01</td>\n",
              "      <td>1</td>\n",
              "      <td>poly</td>\n",
              "      <td>{'C': 0.01, 'gamma': 1, 'kernel': 'poly'}</td>\n",
              "      <td>0.923241</td>\n",
              "      <td>0.938166</td>\n",
              "      <td>0.895522</td>\n",
              "      <td>0.927350</td>\n",
              "      <td>0.921070</td>\n",
              "      <td>0.015725</td>\n",
              "      <td>1</td>\n",
              "    </tr>\n",
              "    <tr>\n",
              "      <th>19</th>\n",
              "      <td>0.484203</td>\n",
              "      <td>0.008545</td>\n",
              "      <td>0.098710</td>\n",
              "      <td>0.002430</td>\n",
              "      <td>0.01</td>\n",
              "      <td>0.1</td>\n",
              "      <td>poly</td>\n",
              "      <td>{'C': 0.01, 'gamma': 0.1, 'kernel': 'poly'}</td>\n",
              "      <td>0.923241</td>\n",
              "      <td>0.938166</td>\n",
              "      <td>0.895522</td>\n",
              "      <td>0.927350</td>\n",
              "      <td>0.921070</td>\n",
              "      <td>0.015725</td>\n",
              "      <td>1</td>\n",
              "    </tr>\n",
              "    <tr>\n",
              "      <th>10</th>\n",
              "      <td>0.485663</td>\n",
              "      <td>0.011862</td>\n",
              "      <td>0.098544</td>\n",
              "      <td>0.001272</td>\n",
              "      <td>0.001</td>\n",
              "      <td>1</td>\n",
              "      <td>poly</td>\n",
              "      <td>{'C': 0.001, 'gamma': 1, 'kernel': 'poly'}</td>\n",
              "      <td>0.923241</td>\n",
              "      <td>0.938166</td>\n",
              "      <td>0.895522</td>\n",
              "      <td>0.927350</td>\n",
              "      <td>0.921070</td>\n",
              "      <td>0.015725</td>\n",
              "      <td>1</td>\n",
              "    </tr>\n",
              "    <tr>\n",
              "      <th>46</th>\n",
              "      <td>0.487447</td>\n",
              "      <td>0.012342</td>\n",
              "      <td>0.098404</td>\n",
              "      <td>0.001140</td>\n",
              "      <td>1</td>\n",
              "      <td>1</td>\n",
              "      <td>poly</td>\n",
              "      <td>{'C': 1, 'gamma': 1, 'kernel': 'poly'}</td>\n",
              "      <td>0.923241</td>\n",
              "      <td>0.938166</td>\n",
              "      <td>0.895522</td>\n",
              "      <td>0.927350</td>\n",
              "      <td>0.921070</td>\n",
              "      <td>0.015725</td>\n",
              "      <td>1</td>\n",
              "    </tr>\n",
              "    <tr>\n",
              "      <th>43</th>\n",
              "      <td>0.487153</td>\n",
              "      <td>0.009410</td>\n",
              "      <td>0.098425</td>\n",
              "      <td>0.001565</td>\n",
              "      <td>1</td>\n",
              "      <td>0.1</td>\n",
              "      <td>poly</td>\n",
              "      <td>{'C': 1, 'gamma': 0.1, 'kernel': 'poly'}</td>\n",
              "      <td>0.923241</td>\n",
              "      <td>0.938166</td>\n",
              "      <td>0.895522</td>\n",
              "      <td>0.927350</td>\n",
              "      <td>0.921070</td>\n",
              "      <td>0.015725</td>\n",
              "      <td>1</td>\n",
              "    </tr>\n",
              "    <tr>\n",
              "      <th>31</th>\n",
              "      <td>0.487907</td>\n",
              "      <td>0.011111</td>\n",
              "      <td>0.098065</td>\n",
              "      <td>0.000992</td>\n",
              "      <td>0.1</td>\n",
              "      <td>0.1</td>\n",
              "      <td>poly</td>\n",
              "      <td>{'C': 0.1, 'gamma': 0.1, 'kernel': 'poly'}</td>\n",
              "      <td>0.923241</td>\n",
              "      <td>0.938166</td>\n",
              "      <td>0.895522</td>\n",
              "      <td>0.927350</td>\n",
              "      <td>0.921070</td>\n",
              "      <td>0.015725</td>\n",
              "      <td>1</td>\n",
              "    </tr>\n",
              "    <tr>\n",
              "      <th>51</th>\n",
              "      <td>0.386450</td>\n",
              "      <td>0.007591</td>\n",
              "      <td>0.115375</td>\n",
              "      <td>0.005677</td>\n",
              "      <td>10</td>\n",
              "      <td>0.01</td>\n",
              "      <td>rbf</td>\n",
              "      <td>{'C': 10, 'gamma': 0.01, 'kernel': 'rbf'}</td>\n",
              "      <td>0.927505</td>\n",
              "      <td>0.933902</td>\n",
              "      <td>0.874200</td>\n",
              "      <td>0.908120</td>\n",
              "      <td>0.910932</td>\n",
              "      <td>0.023235</td>\n",
              "      <td>11</td>\n",
              "    </tr>\n",
              "    <tr>\n",
              "      <th>48</th>\n",
              "      <td>0.203716</td>\n",
              "      <td>0.002799</td>\n",
              "      <td>0.084905</td>\n",
              "      <td>0.001687</td>\n",
              "      <td>10</td>\n",
              "      <td>0.001</td>\n",
              "      <td>rbf</td>\n",
              "      <td>{'C': 10, 'gamma': 0.001, 'kernel': 'rbf'}</td>\n",
              "      <td>0.914712</td>\n",
              "      <td>0.925373</td>\n",
              "      <td>0.874200</td>\n",
              "      <td>0.918803</td>\n",
              "      <td>0.908272</td>\n",
              "      <td>0.020036</td>\n",
              "      <td>12</td>\n",
              "    </tr>\n",
              "    <tr>\n",
              "      <th>23</th>\n",
              "      <td>0.164020</td>\n",
              "      <td>0.001998</td>\n",
              "      <td>0.071150</td>\n",
              "      <td>0.000461</td>\n",
              "      <td>0.01</td>\n",
              "      <td>1</td>\n",
              "      <td>linear</td>\n",
              "      <td>{'C': 0.01, 'gamma': 1, 'kernel': 'linear'}</td>\n",
              "      <td>0.921109</td>\n",
              "      <td>0.916844</td>\n",
              "      <td>0.880597</td>\n",
              "      <td>0.912393</td>\n",
              "      <td>0.907736</td>\n",
              "      <td>0.015969</td>\n",
              "      <td>13</td>\n",
              "    </tr>\n",
              "    <tr>\n",
              "      <th>20</th>\n",
              "      <td>0.164628</td>\n",
              "      <td>0.001798</td>\n",
              "      <td>0.071077</td>\n",
              "      <td>0.000694</td>\n",
              "      <td>0.01</td>\n",
              "      <td>0.1</td>\n",
              "      <td>linear</td>\n",
              "      <td>{'C': 0.01, 'gamma': 0.1, 'kernel': 'linear'}</td>\n",
              "      <td>0.921109</td>\n",
              "      <td>0.916844</td>\n",
              "      <td>0.880597</td>\n",
              "      <td>0.912393</td>\n",
              "      <td>0.907736</td>\n",
              "      <td>0.015969</td>\n",
              "      <td>13</td>\n",
              "    </tr>\n",
              "    <tr>\n",
              "      <th>17</th>\n",
              "      <td>0.165342</td>\n",
              "      <td>0.002816</td>\n",
              "      <td>0.071325</td>\n",
              "      <td>0.000609</td>\n",
              "      <td>0.01</td>\n",
              "      <td>0.01</td>\n",
              "      <td>linear</td>\n",
              "      <td>{'C': 0.01, 'gamma': 0.01, 'kernel': 'linear'}</td>\n",
              "      <td>0.921109</td>\n",
              "      <td>0.916844</td>\n",
              "      <td>0.880597</td>\n",
              "      <td>0.912393</td>\n",
              "      <td>0.907736</td>\n",
              "      <td>0.015969</td>\n",
              "      <td>13</td>\n",
              "    </tr>\n",
              "  </tbody>\n",
              "</table>\n",
              "</div>"
            ],
            "text/plain": [
              "    mean_fit_time  std_fit_time  ...  std_test_score  rank_test_score\n",
              "58       0.486133      0.010928  ...        0.015725                1\n",
              "34       0.487282      0.011979  ...        0.015725                1\n",
              "55       0.492982      0.005423  ...        0.015725                1\n",
              "52       0.488718      0.009146  ...        0.015725                1\n",
              "22       0.488710      0.014880  ...        0.015725                1\n",
              "19       0.484203      0.008545  ...        0.015725                1\n",
              "10       0.485663      0.011862  ...        0.015725                1\n",
              "46       0.487447      0.012342  ...        0.015725                1\n",
              "43       0.487153      0.009410  ...        0.015725                1\n",
              "31       0.487907      0.011111  ...        0.015725                1\n",
              "51       0.386450      0.007591  ...        0.023235               11\n",
              "48       0.203716      0.002799  ...        0.020036               12\n",
              "23       0.164020      0.001998  ...        0.015969               13\n",
              "20       0.164628      0.001798  ...        0.015969               13\n",
              "17       0.165342      0.002816  ...        0.015969               13\n",
              "\n",
              "[15 rows x 15 columns]"
            ]
          },
          "metadata": {
            "tags": []
          }
        },
        {
          "output_type": "display_data",
          "data": {
            "image/png": "[encoded data removed]",
            "text/plain": [
              "<Figure size 576x576 with 1 Axes>"
            ]
          },
          "metadata": {
            "tags": [],
            "needs_background": "light"
          }
        }
      ]
    },
    {
      "cell_type": "code",
      "metadata": {
        "id": "1a1xJDpPBrN3",
        "colab_type": "code",
        "outputId": "399c7c51-8510-4871-e6c7-d40b3677ec55",
        "colab": {
          "base_uri": "https://localhost:8080/",
          "height": 35
        }
      },
      "source": [
        "def svm_mult():\n",
        "  model = svm.SVC(kernel='poly', C=0.001,gamma=1)\n",
        "  model.fit(X_scaled_train, y_train)\n",
        "  y_pred = model.predict(X_scaled_test)\n",
        "  C=metrics.confusion_matrix(y_test, y_pred)\n",
        "  return np.sum(np.diag(C))/np.sum(C)*100\n",
        "\n",
        "print(svm_mult())"
      ],
      "execution_count": 0,
      "outputs": [
        {
          "output_type": "stream",
          "text": [
            "92.0\n"
          ],
          "name": "stdout"
        }
      ]
    },
    {
      "cell_type": "markdown",
      "metadata": {
        "id": "mR1ibZrOQc-a",
        "colab_type": "text"
      },
      "source": [
        "#CNN"
      ]
    },
    {
      "cell_type": "code",
      "metadata": {
        "id": "CLI8MYUmQi6S",
        "colab_type": "code",
        "colab": {}
      },
      "source": [
        "# Import libraries and modules\n",
        "import time\n",
        "import numpy as np\n",
        "np.random.seed(123)  # for reproducibility\n",
        "\n",
        "from matplotlib import pyplot as plt\n",
        "from sklearn.model_selection import train_test_split\n",
        "from sklearn.metrics import confusion_matrix\n",
        "from tensorflow.keras.optimizers import SGD\n",
        "from keras.utils import np_utils\n",
        "\n",
        "from tensorflow.keras.models import Sequential, Model\n",
        "from tensorflow.keras.layers import Dense, Flatten, Dropout, Convolution1D,MaxPooling1D, Convolution2D, MaxPooling2D, Input"
      ],
      "execution_count": 0,
      "outputs": []
    },
    {
      "cell_type": "code",
      "metadata": {
        "id": "OhRAUXk9Qfgq",
        "colab_type": "code",
        "colab": {}
      },
      "source": [
        "\n",
        "\n",
        "def affiche(history): \n",
        "  # summarize history for accuracy \n",
        "  plt.plot(history.history['accuracy']) \n",
        "  plt.plot(history.history['val_accuracy']) \n",
        "  plt.title('model accuracy') \n",
        "  plt.ylabel('accuracy') \n",
        "  plt.xlabel('epoch') \n",
        "  plt.legend(['train', 'test'], loc='upper left') \n",
        "  plt.grid()\n",
        "  plt.show() \n",
        "  # summarize history for loss \n",
        "  plt.plot(history.history['loss']) \n",
        "  plt.plot(history.history['val_loss']) \n",
        "  plt.title('model loss') \n",
        "  plt.ylabel('loss') \n",
        "  plt.xlabel('epoch') \n",
        "  plt.legend(['train', 'test'], loc='upper left') \n",
        "  plt.grid()\n",
        "  plt.show()\n",
        "\n"
      ],
      "execution_count": 0,
      "outputs": []
    },
    {
      "cell_type": "code",
      "metadata": {
        "id": "DX_mG7_Bl87H",
        "colab_type": "code",
        "outputId": "e964cfb8-2887-40eb-967b-41114fdf9661",
        "colab": {
          "base_uri": "https://localhost:8080/",
          "height": 129
        }
      },
      "source": [
        "X_train, X_test, y_train, y_test = np.load(\"data.npy\",allow_pickle=True )\n",
        "# Preprocess input data\n",
        "X_train_scaled=[]\n",
        "X_test_scaled=[]\n",
        "for i in range(X_train.shape[0]):\n",
        "  a=cv2.resize(X_train[i],(32,32))\n",
        "\n",
        "  X_train_scaled.append(a)\n",
        "  y_train[i]-=1\n",
        "X_train_scaled=np.asarray(X_train_scaled)\n",
        "\n",
        "for i in range(X_test.shape[0]):\n",
        "  a=cv2.resize(X_test[i],(32,32))\n",
        "\n",
        "  X_test_scaled.append(a)\n",
        "  y_test[i]-=1\n",
        "X_test_scaled=np.asarray(X_test_scaled)\n",
        "\n",
        "rgb_X_train = np.repeat(X_train_scaled[..., np.newaxis], 3, -1)\n",
        "rgb_X_test = np.repeat(X_test_scaled[..., np.newaxis], 3, -1)\n",
        "\n",
        "\n",
        "rgb_X_train = rgb_X_train.astype('float32')\n",
        "rgb_X_test = rgb_X_test.astype('float32')\n",
        "rgb_X_train /= 255\n",
        "rgb_X_test /= 255\n",
        "Y_train = np_utils.to_categorical(y_train) #Converts a class vector (integers) to binary class matrix.\n",
        "Y_test = np_utils.to_categorical(y_test)\n",
        "\n",
        "\n",
        "# Preprocess class labels\n",
        "Y_train = np_utils.to_categorical(y_train) #Converts a class vector (integers) to binary class matrix.\n",
        "Y_test = np_utils.to_categorical(y_test)\n",
        "print (\"number of training examples = \" + str(X_train.shape[0]))\n",
        "print (\"number of test examples = \" + str(rgb_X_test.shape[0]))\n",
        "print (\"X_train_scaled shape: \" + str(X_train.shape))\n",
        "print (\"Y_train shape: \" + str(Y_train.shape))\n",
        "print (\"X_test_scaled shape: \" + str(X_test.shape))\n",
        "print (\"Y_test shape: \" + str(Y_test.shape))"
      ],
      "execution_count": 0,
      "outputs": [
        {
          "output_type": "stream",
          "text": [
            "number of training examples = 1875\n",
            "number of test examples = 625\n",
            "X_train_scaled shape: (1875, 12, 12)\n",
            "Y_train shape: (1875, 10)\n",
            "X_test_scaled shape: (625, 12, 12)\n",
            "Y_test shape: (625, 10)\n"
          ],
          "name": "stdout"
        }
      ]
    },
    {
      "cell_type": "code",
      "metadata": {
        "id": "pP49ZI21QoUh",
        "colab_type": "code",
        "outputId": "868b91a0-3131-4376-c5e4-797d5227e107",
        "colab": {
          "base_uri": "https://localhost:8080/",
          "height": 1000
        }
      },
      "source": [
        "\n",
        "\n",
        "# Define model architecture\n",
        "inputs = Input(shape=(12,12)) \n",
        "x = inputs \n",
        "filtre32=Convolution1D(32,3, activation='relu',padding='same')(x)\n",
        "filtre64=Convolution1D(64,3, activation='relu',padding='same')(filtre32)\n",
        "dropout1=Dropout(0.25)(filtre64)\n",
        "p= MaxPooling1D(pool_size=2, strides=2,padding='same')(dropout1)\n",
        "f=Flatten()(p) \n",
        "\n",
        "couche=Dense(128,activation='relu')(f)\n",
        "dropout=Dropout(0.5)(couche)\n",
        "outputs=Dense(11, activation='softmax')(dropout) \n",
        "model = Model(inputs, outputs) \n",
        "\n",
        "model.summary()\n",
        "lr=0.1 \n",
        "batch_size=256 \n",
        "epochs=50\n",
        "sgd1=SGD(lr=lr) #stochastic gradient descent with a fixed learning rate\n",
        "\n",
        "model.compile(loss='categorical_crossentropy', optimizer='adam', metrics=['accuracy']) \n",
        "tps1 = time.clock() #on regarde le temps que ça tourne\n",
        "history =model.fit(X_train, Y_train, batch_size=batch_size, epochs=epochs,\n",
        "                   verbose=1,validation_data=(X_test, Y_test)) \n",
        "tps2 = time.clock()\n",
        "\n",
        "affiche(history) \n",
        "print('lr=',lr,'batch_size=',batch_size, 'epochs=',epochs) \n",
        "print('Temps d apprentissage',tps2 - tps1)\n",
        "\n"
      ],
      "execution_count": 0,
      "outputs": [
        {
          "output_type": "stream",
          "text": [
            "Model: \"model_36\"\n",
            "_________________________________________________________________\n",
            "Layer (type)                 Output Shape              Param #   \n",
            "=================================================================\n",
            "input_38 (InputLayer)        [(None, 12, 12)]          0         \n",
            "_________________________________________________________________\n",
            "conv1d (Conv1D)              (None, 12, 32)            1184      \n",
            "_________________________________________________________________\n",
            "conv1d_1 (Conv1D)            (None, 12, 64)            6208      \n",
            "_________________________________________________________________\n",
            "dropout_37 (Dropout)         (None, 12, 64)            0         \n",
            "_________________________________________________________________\n",
            "max_pooling1d (MaxPooling1D) (None, 6, 64)             0         \n",
            "_________________________________________________________________\n",
            "flatten_37 (Flatten)         (None, 384)               0         \n",
            "_________________________________________________________________\n",
            "dense_74 (Dense)             (None, 128)               49280     \n",
            "_________________________________________________________________\n",
            "dropout_38 (Dropout)         (None, 128)               0         \n",
            "_________________________________________________________________\n",
            "dense_75 (Dense)             (None, 11)                1419      \n",
            "=================================================================\n",
            "Total params: 58,091\n",
            "Trainable params: 58,091\n",
            "Non-trainable params: 0\n",
            "_________________________________________________________________\n",
            "Epoch 1/50\n",
            "8/8 [==============================] - 0s 31ms/step - loss: 2.2708 - accuracy: 0.2101 - val_loss: 2.0967 - val_accuracy: 0.6592\n",
            "Epoch 2/50\n",
            "8/8 [==============================] - 0s 17ms/step - loss: 1.9664 - accuracy: 0.4277 - val_loss: 1.7080 - val_accuracy: 0.7744\n",
            "Epoch 3/50\n",
            "8/8 [==============================] - 0s 17ms/step - loss: 1.5549 - accuracy: 0.5616 - val_loss: 1.2356 - val_accuracy: 0.8272\n",
            "Epoch 4/50\n",
            "8/8 [==============================] - 0s 17ms/step - loss: 1.1634 - accuracy: 0.6704 - val_loss: 0.8605 - val_accuracy: 0.8544\n",
            "Epoch 5/50\n",
            "8/8 [==============================] - 0s 19ms/step - loss: 0.8724 - accuracy: 0.7307 - val_loss: 0.6779 - val_accuracy: 0.8608\n",
            "Epoch 6/50\n",
            "8/8 [==============================] - 0s 17ms/step - loss: 0.7435 - accuracy: 0.7712 - val_loss: 0.5694 - val_accuracy: 0.8672\n",
            "Epoch 7/50\n",
            "8/8 [==============================] - 0s 17ms/step - loss: 0.6457 - accuracy: 0.7968 - val_loss: 0.5139 - val_accuracy: 0.8752\n",
            "Epoch 8/50\n",
            "8/8 [==============================] - 0s 17ms/step - loss: 0.5658 - accuracy: 0.8283 - val_loss: 0.4461 - val_accuracy: 0.8816\n",
            "Epoch 9/50\n",
            "8/8 [==============================] - 0s 17ms/step - loss: 0.5381 - accuracy: 0.8341 - val_loss: 0.4240 - val_accuracy: 0.8864\n",
            "Epoch 10/50\n",
            "8/8 [==============================] - 0s 16ms/step - loss: 0.4717 - accuracy: 0.8571 - val_loss: 0.3943 - val_accuracy: 0.8960\n",
            "Epoch 11/50\n",
            "8/8 [==============================] - 0s 18ms/step - loss: 0.4527 - accuracy: 0.8629 - val_loss: 0.3813 - val_accuracy: 0.8928\n",
            "Epoch 12/50\n",
            "8/8 [==============================] - 0s 19ms/step - loss: 0.4364 - accuracy: 0.8667 - val_loss: 0.3575 - val_accuracy: 0.8992\n",
            "Epoch 13/50\n",
            "8/8 [==============================] - 0s 17ms/step - loss: 0.4124 - accuracy: 0.8789 - val_loss: 0.3546 - val_accuracy: 0.8960\n",
            "Epoch 14/50\n",
            "8/8 [==============================] - 0s 17ms/step - loss: 0.3893 - accuracy: 0.8875 - val_loss: 0.3393 - val_accuracy: 0.9056\n",
            "Epoch 15/50\n",
            "8/8 [==============================] - 0s 16ms/step - loss: 0.3555 - accuracy: 0.8976 - val_loss: 0.3298 - val_accuracy: 0.9072\n",
            "Epoch 16/50\n",
            "8/8 [==============================] - 0s 18ms/step - loss: 0.3565 - accuracy: 0.8987 - val_loss: 0.3146 - val_accuracy: 0.9104\n",
            "Epoch 17/50\n",
            "8/8 [==============================] - 0s 17ms/step - loss: 0.3356 - accuracy: 0.8971 - val_loss: 0.3060 - val_accuracy: 0.9088\n",
            "Epoch 18/50\n",
            "8/8 [==============================] - 0s 18ms/step - loss: 0.3218 - accuracy: 0.9035 - val_loss: 0.3026 - val_accuracy: 0.9136\n",
            "Epoch 19/50\n",
            "8/8 [==============================] - 0s 19ms/step - loss: 0.3299 - accuracy: 0.9083 - val_loss: 0.2879 - val_accuracy: 0.9136\n",
            "Epoch 20/50\n",
            "8/8 [==============================] - 0s 17ms/step - loss: 0.2824 - accuracy: 0.9147 - val_loss: 0.2837 - val_accuracy: 0.9152\n",
            "Epoch 21/50\n",
            "8/8 [==============================] - 0s 18ms/step - loss: 0.2875 - accuracy: 0.9200 - val_loss: 0.2756 - val_accuracy: 0.9152\n",
            "Epoch 22/50\n",
            "8/8 [==============================] - 0s 18ms/step - loss: 0.2945 - accuracy: 0.9125 - val_loss: 0.2657 - val_accuracy: 0.9280\n",
            "Epoch 23/50\n",
            "8/8 [==============================] - 0s 17ms/step - loss: 0.2706 - accuracy: 0.9195 - val_loss: 0.2712 - val_accuracy: 0.9136\n",
            "Epoch 24/50\n",
            "8/8 [==============================] - 0s 18ms/step - loss: 0.2622 - accuracy: 0.9189 - val_loss: 0.2580 - val_accuracy: 0.9312\n",
            "Epoch 25/50\n",
            "8/8 [==============================] - 0s 18ms/step - loss: 0.2443 - accuracy: 0.9253 - val_loss: 0.2508 - val_accuracy: 0.9280\n",
            "Epoch 26/50\n",
            "8/8 [==============================] - 0s 17ms/step - loss: 0.2407 - accuracy: 0.9301 - val_loss: 0.2456 - val_accuracy: 0.9328\n",
            "Epoch 27/50\n",
            "8/8 [==============================] - 0s 16ms/step - loss: 0.2429 - accuracy: 0.9269 - val_loss: 0.2408 - val_accuracy: 0.9296\n",
            "Epoch 28/50\n",
            "8/8 [==============================] - 0s 18ms/step - loss: 0.2370 - accuracy: 0.9285 - val_loss: 0.2351 - val_accuracy: 0.9344\n",
            "Epoch 29/50\n",
            "8/8 [==============================] - 0s 19ms/step - loss: 0.2248 - accuracy: 0.9333 - val_loss: 0.2332 - val_accuracy: 0.9376\n",
            "Epoch 30/50\n",
            "8/8 [==============================] - 0s 19ms/step - loss: 0.2187 - accuracy: 0.9312 - val_loss: 0.2272 - val_accuracy: 0.9344\n",
            "Epoch 31/50\n",
            "8/8 [==============================] - 0s 19ms/step - loss: 0.2144 - accuracy: 0.9317 - val_loss: 0.2247 - val_accuracy: 0.9360\n",
            "Epoch 32/50\n",
            "8/8 [==============================] - 0s 18ms/step - loss: 0.1999 - accuracy: 0.9429 - val_loss: 0.2232 - val_accuracy: 0.9392\n",
            "Epoch 33/50\n",
            "8/8 [==============================] - 0s 17ms/step - loss: 0.1974 - accuracy: 0.9435 - val_loss: 0.2134 - val_accuracy: 0.9440\n",
            "Epoch 34/50\n",
            "8/8 [==============================] - 0s 17ms/step - loss: 0.1919 - accuracy: 0.9408 - val_loss: 0.2174 - val_accuracy: 0.9328\n",
            "Epoch 35/50\n",
            "8/8 [==============================] - 0s 18ms/step - loss: 0.1965 - accuracy: 0.9424 - val_loss: 0.2086 - val_accuracy: 0.9408\n",
            "Epoch 36/50\n",
            "8/8 [==============================] - 0s 17ms/step - loss: 0.1840 - accuracy: 0.9472 - val_loss: 0.2058 - val_accuracy: 0.9456\n",
            "Epoch 37/50\n",
            "8/8 [==============================] - 0s 19ms/step - loss: 0.1755 - accuracy: 0.9477 - val_loss: 0.1996 - val_accuracy: 0.9408\n",
            "Epoch 38/50\n",
            "8/8 [==============================] - 0s 17ms/step - loss: 0.1724 - accuracy: 0.9499 - val_loss: 0.2023 - val_accuracy: 0.9344\n",
            "Epoch 39/50\n",
            "8/8 [==============================] - 0s 18ms/step - loss: 0.1925 - accuracy: 0.9435 - val_loss: 0.2057 - val_accuracy: 0.9408\n",
            "Epoch 40/50\n",
            "8/8 [==============================] - 0s 17ms/step - loss: 0.1585 - accuracy: 0.9531 - val_loss: 0.1949 - val_accuracy: 0.9472\n",
            "Epoch 41/50\n",
            "8/8 [==============================] - 0s 17ms/step - loss: 0.1653 - accuracy: 0.9493 - val_loss: 0.1979 - val_accuracy: 0.9440\n",
            "Epoch 42/50\n",
            "8/8 [==============================] - 0s 19ms/step - loss: 0.1582 - accuracy: 0.9552 - val_loss: 0.1997 - val_accuracy: 0.9472\n",
            "Epoch 43/50\n",
            "8/8 [==============================] - 0s 18ms/step - loss: 0.1487 - accuracy: 0.9536 - val_loss: 0.1906 - val_accuracy: 0.9456\n",
            "Epoch 44/50\n",
            "8/8 [==============================] - 0s 17ms/step - loss: 0.1463 - accuracy: 0.9627 - val_loss: 0.1951 - val_accuracy: 0.9456\n",
            "Epoch 45/50\n",
            "8/8 [==============================] - 0s 17ms/step - loss: 0.1533 - accuracy: 0.9552 - val_loss: 0.1927 - val_accuracy: 0.9440\n",
            "Epoch 46/50\n",
            "8/8 [==============================] - 0s 17ms/step - loss: 0.1530 - accuracy: 0.9509 - val_loss: 0.1960 - val_accuracy: 0.9440\n",
            "Epoch 47/50\n",
            "8/8 [==============================] - 0s 17ms/step - loss: 0.1530 - accuracy: 0.9504 - val_loss: 0.1900 - val_accuracy: 0.9424\n",
            "Epoch 48/50\n",
            "8/8 [==============================] - 0s 18ms/step - loss: 0.1331 - accuracy: 0.9600 - val_loss: 0.1908 - val_accuracy: 0.9488\n",
            "Epoch 49/50\n",
            "8/8 [==============================] - 0s 17ms/step - loss: 0.1390 - accuracy: 0.9616 - val_loss: 0.1898 - val_accuracy: 0.9456\n",
            "Epoch 50/50\n",
            "8/8 [==============================] - 0s 20ms/step - loss: 0.1352 - accuracy: 0.9563 - val_loss: 0.1800 - val_accuracy: 0.9536\n"
          ],
          "name": "stdout"
        },
        {
          "output_type": "display_data",
          "data": {
            "image/png": "[encoded data removed]",
            "text/plain": [
              "<Figure size 432x288 with 1 Axes>"
            ]
          },
          "metadata": {
            "tags": [],
            "needs_background": "light"
          }
        },
        {
          "output_type": "display_data",
          "data": {
            "image/png": "[encoded data removed]",
            "text/plain": [
              "<Figure size 432x288 with 1 Axes>"
            ]
          },
          "metadata": {
            "tags": [],
            "needs_background": "light"
          }
        },
        {
          "output_type": "stream",
          "text": [
            "lr= 0.1 batch_size= 256 epochs= 50\n",
            "Temps d apprentissage 12.004201000000194\n"
          ],
          "name": "stdout"
        }
      ]
    },
    {
      "cell_type": "code",
      "metadata": {
        "id": "2O7KszGTk1QB",
        "colab_type": "code",
        "outputId": "879407b7-3ecb-4d5d-b515-dc00e8ca920c",
        "colab": {
          "base_uri": "https://localhost:8080/",
          "height": 538
        }
      },
      "source": [
        "!pip install keras-tuner\n",
        "!pip install ipython"
      ],
      "execution_count": 0,
      "outputs": [
        {
          "output_type": "stream",
          "text": [
            "Requirement already satisfied: keras-tuner in /usr/local/lib/python3.6/dist-packages (1.0.1)\n",
            "Requirement already satisfied: terminaltables in /usr/local/lib/python3.6/dist-packages (from keras-tuner) (3.1.0)\n",
            "Requirement already satisfied: colorama in /usr/local/lib/python3.6/dist-packages (from keras-tuner) (0.4.3)\n",
            "Requirement already satisfied: scipy in /usr/local/lib/python3.6/dist-packages (from keras-tuner) (1.4.1)\n",
            "Requirement already satisfied: numpy in /usr/local/lib/python3.6/dist-packages (from keras-tuner) (1.18.5)\n",
            "Requirement already satisfied: tabulate in /usr/local/lib/python3.6/dist-packages (from keras-tuner) (0.8.7)\n",
            "Requirement already satisfied: tqdm in /usr/local/lib/python3.6/dist-packages (from keras-tuner) (4.41.1)\n",
            "Requirement already satisfied: future in /usr/local/lib/python3.6/dist-packages (from keras-tuner) (0.16.0)\n",
            "Requirement already satisfied: scikit-learn in /usr/local/lib/python3.6/dist-packages (from keras-tuner) (0.22.2.post1)\n",
            "Requirement already satisfied: requests in /usr/local/lib/python3.6/dist-packages (from keras-tuner) (2.23.0)\n",
            "Requirement already satisfied: joblib>=0.11 in /usr/local/lib/python3.6/dist-packages (from scikit-learn->keras-tuner) (0.15.1)\n",
            "Requirement already satisfied: idna<3,>=2.5 in /usr/local/lib/python3.6/dist-packages (from requests->keras-tuner) (2.9)\n",
            "Requirement already satisfied: urllib3!=1.25.0,!=1.25.1,<1.26,>=1.21.1 in /usr/local/lib/python3.6/dist-packages (from requests->keras-tuner) (1.24.3)\n",
            "Requirement already satisfied: chardet<4,>=3.0.2 in /usr/local/lib/python3.6/dist-packages (from requests->keras-tuner) (3.0.4)\n",
            "Requirement already satisfied: certifi>=2017.4.17 in /usr/local/lib/python3.6/dist-packages (from requests->keras-tuner) (2020.4.5.1)\n",
            "Requirement already satisfied: ipython in /usr/local/lib/python3.6/dist-packages (5.5.0)\n",
            "Requirement already satisfied: setuptools>=18.5 in /usr/local/lib/python3.6/dist-packages (from ipython) (47.1.1)\n",
            "Requirement already satisfied: pickleshare in /usr/local/lib/python3.6/dist-packages (from ipython) (0.7.5)\n",
            "Requirement already satisfied: pygments in /usr/local/lib/python3.6/dist-packages (from ipython) (2.1.3)\n",
            "Requirement already satisfied: simplegeneric>0.8 in /usr/local/lib/python3.6/dist-packages (from ipython) (0.8.1)\n",
            "Requirement already satisfied: decorator in /usr/local/lib/python3.6/dist-packages (from ipython) (4.4.2)\n",
            "Requirement already satisfied: pexpect; sys_platform != \"win32\" in /usr/local/lib/python3.6/dist-packages (from ipython) (4.8.0)\n",
            "Requirement already satisfied: prompt-toolkit<2.0.0,>=1.0.4 in /usr/local/lib/python3.6/dist-packages (from ipython) (1.0.18)\n",
            "Requirement already satisfied: traitlets>=4.2 in /usr/local/lib/python3.6/dist-packages (from ipython) (4.3.3)\n",
            "Requirement already satisfied: ptyprocess>=0.5 in /usr/local/lib/python3.6/dist-packages (from pexpect; sys_platform != \"win32\"->ipython) (0.6.0)\n",
            "Requirement already satisfied: six>=1.9.0 in /usr/local/lib/python3.6/dist-packages (from prompt-toolkit<2.0.0,>=1.0.4->ipython) (1.12.0)\n",
            "Requirement already satisfied: wcwidth in /usr/local/lib/python3.6/dist-packages (from prompt-toolkit<2.0.0,>=1.0.4->ipython) (0.2.3)\n",
            "Requirement already satisfied: ipython-genutils in /usr/local/lib/python3.6/dist-packages (from traitlets>=4.2->ipython) (0.2.0)\n"
          ],
          "name": "stdout"
        }
      ]
    },
    {
      "cell_type": "code",
      "metadata": {
        "id": "oOrkCKs2fF4v",
        "colab_type": "code",
        "colab": {}
      },
      "source": [
        "from kerastuner.applications import HyperResNet\n",
        "from kerastuner.tuners import Hyperband\n",
        "\n",
        "hypermodel = HyperResNet(include_top=False,input_shape=(12,12))\n",
        "\n",
        "def model_builder(hp):\n",
        "  model = keras.Sequential()\n",
        "  model.add(keras.layers.Flatten(input_shape=(12,12)))\n",
        "  \n",
        "  # Tune the number of units in the first Dense layer\n",
        "\n",
        "  hp_units = hp.Int('units', min_value = 32, max_value = 256, step = 32)\n",
        "  dropout_units=hp.Choice('rate', values = [0.25, 0.5,0.75])\n",
        "  hp_learning_rate = hp.Choice('learning_rate', values = [1e-2, 1e-3, 1e-4])  \n",
        "  \n",
        "  model.add(keras.layers.Dense(units = hp_units, activation = 'relu'))\n",
        "  model.add(Dropout(dropout_units))\n",
        "  model.add(keras.layers.Dense(10))\n",
        "\n",
        "  \n",
        "  model.compile(optimizer = keras.optimizers.Adam(learning_rate = hp_learning_rate),\n",
        "                loss = keras.losses.SparseCategoricalCrossentropy(from_logits = True), \n",
        "                metrics = ['accuracy'])\n",
        "  \n",
        "  return model"
      ],
      "execution_count": 0,
      "outputs": []
    },
    {
      "cell_type": "code",
      "metadata": {
        "id": "Pmf80QD1oJ1O",
        "colab_type": "code",
        "outputId": "45d18d9a-1bf7-4465-d82e-b2fa52c72012",
        "colab": {
          "base_uri": "https://localhost:8080/",
          "height": 54
        }
      },
      "source": [
        "import IPython\n",
        "\n",
        "tuner =Hyperband(model_builder,\n",
        "                     objective = 'val_accuracy', \n",
        "                     max_epochs = 50,\n",
        "                     factor = 3,\n",
        "                     directory = 'my_dir',\n",
        "                     project_name = 'projet')   \n",
        "class ClearTrainingOutput(tf.keras.callbacks.Callback):\n",
        "  def on_train_end(*args, **kwargs):\n",
        "    IPython.display.clear_output(wait = True)\n"
      ],
      "execution_count": 0,
      "outputs": [
        {
          "output_type": "stream",
          "text": [
            "INFO:tensorflow:Reloading Oracle from existing project my_dir/projet/oracle.json\n",
            "INFO:tensorflow:Reloading Tuner from my_dir/projet/tuner0.json\n"
          ],
          "name": "stdout"
        }
      ]
    },
    {
      "cell_type": "code",
      "metadata": {
        "id": "MD-6_dtyoVY9",
        "colab_type": "code",
        "outputId": "deb31497-2c57-4399-c802-f2d45624a454",
        "colab": {
          "base_uri": "https://localhost:8080/",
          "height": 129
        }
      },
      "source": [
        "tuner.search(X_train, y_train, epochs = 50, validation_data = (X_test, y_test), callbacks = [ClearTrainingOutput()])\n",
        "\n",
        "# Get the optimal hyperparameters\n",
        "best_hps = tuner.get_best_hyperparameters(num_trials = 1)[0]\n",
        "\n",
        "print(f\"\"\"\n",
        "The hyperparameter search is complete. The optimal number of units in the first densely-connected\n",
        "layer is {best_hps.get('units')} and the optimal learning rate for the optimizer\n",
        "is {best_hps.get('learning_rate')}.\n",
        "\"\"\")\n"
      ],
      "execution_count": 0,
      "outputs": [
        {
          "output_type": "stream",
          "text": [
            "INFO:tensorflow:Oracle triggered exit\n",
            "\n",
            "The hyperparameter search is complete. The optimal number of units in the first densely-connected\n",
            "layer is 416 and the optimal learning rate for the optimizer\n",
            "is 0.001.\n",
            "\n"
          ],
          "name": "stdout"
        }
      ]
    },
    {
      "cell_type": "code",
      "metadata": {
        "id": "fG3CEdQHql1Q",
        "colab_type": "code",
        "outputId": "d9a3025e-6e9f-49c7-8064-d675b6aafc6c",
        "colab": {
          "base_uri": "https://localhost:8080/",
          "height": 1000
        }
      },
      "source": [
        "model = tuner.hypermodel.build(best_hps)\n",
        "model.fit(X_train, y_train, epochs = 50, validation_data = (X_test, y_test))\n"
      ],
      "execution_count": 0,
      "outputs": [
        {
          "output_type": "stream",
          "text": [
            "Epoch 1/50\n",
            "59/59 [==============================] - 0s 5ms/step - loss: 17.1022 - accuracy: 0.6971 - val_loss: 6.5173 - val_accuracy: 0.8368\n",
            "Epoch 2/50\n",
            "59/59 [==============================] - 0s 3ms/step - loss: 4.0473 - accuracy: 0.8757 - val_loss: 4.9067 - val_accuracy: 0.8512\n",
            "Epoch 3/50\n",
            "59/59 [==============================] - 0s 3ms/step - loss: 2.6313 - accuracy: 0.9040 - val_loss: 4.9180 - val_accuracy: 0.8752\n",
            "Epoch 4/50\n",
            "59/59 [==============================] - 0s 3ms/step - loss: 1.8713 - accuracy: 0.9221 - val_loss: 4.5523 - val_accuracy: 0.8768\n",
            "Epoch 5/50\n",
            "59/59 [==============================] - 0s 3ms/step - loss: 1.0548 - accuracy: 0.9499 - val_loss: 5.3949 - val_accuracy: 0.8624\n",
            "Epoch 6/50\n",
            "59/59 [==============================] - 0s 3ms/step - loss: 0.9553 - accuracy: 0.9488 - val_loss: 4.8970 - val_accuracy: 0.8704\n",
            "Epoch 7/50\n",
            "59/59 [==============================] - 0s 3ms/step - loss: 0.5054 - accuracy: 0.9621 - val_loss: 4.1130 - val_accuracy: 0.8752\n",
            "Epoch 8/50\n",
            "59/59 [==============================] - 0s 3ms/step - loss: 0.7759 - accuracy: 0.9595 - val_loss: 4.2339 - val_accuracy: 0.8800\n",
            "Epoch 9/50\n",
            "59/59 [==============================] - 0s 3ms/step - loss: 0.8260 - accuracy: 0.9579 - val_loss: 4.8079 - val_accuracy: 0.8896\n",
            "Epoch 10/50\n",
            "59/59 [==============================] - 0s 3ms/step - loss: 0.6192 - accuracy: 0.9621 - val_loss: 5.0836 - val_accuracy: 0.8784\n",
            "Epoch 11/50\n",
            "59/59 [==============================] - 0s 3ms/step - loss: 0.6315 - accuracy: 0.9712 - val_loss: 4.2606 - val_accuracy: 0.9056\n",
            "Epoch 12/50\n",
            "59/59 [==============================] - 0s 3ms/step - loss: 0.3792 - accuracy: 0.9765 - val_loss: 4.7620 - val_accuracy: 0.8880\n",
            "Epoch 13/50\n",
            "59/59 [==============================] - 0s 3ms/step - loss: 0.4648 - accuracy: 0.9744 - val_loss: 4.9389 - val_accuracy: 0.8864\n",
            "Epoch 14/50\n",
            "59/59 [==============================] - 0s 3ms/step - loss: 0.4912 - accuracy: 0.9701 - val_loss: 4.3812 - val_accuracy: 0.9088\n",
            "Epoch 15/50\n",
            "59/59 [==============================] - 0s 3ms/step - loss: 0.3572 - accuracy: 0.9755 - val_loss: 4.7127 - val_accuracy: 0.8944\n",
            "Epoch 16/50\n",
            "59/59 [==============================] - 0s 3ms/step - loss: 0.2524 - accuracy: 0.9845 - val_loss: 4.0790 - val_accuracy: 0.9232\n",
            "Epoch 17/50\n",
            "59/59 [==============================] - 0s 3ms/step - loss: 0.1482 - accuracy: 0.9877 - val_loss: 4.5163 - val_accuracy: 0.9072\n",
            "Epoch 18/50\n",
            "59/59 [==============================] - 0s 3ms/step - loss: 0.2739 - accuracy: 0.9845 - val_loss: 4.0984 - val_accuracy: 0.9088\n",
            "Epoch 19/50\n",
            "59/59 [==============================] - 0s 3ms/step - loss: 0.1337 - accuracy: 0.9899 - val_loss: 4.8445 - val_accuracy: 0.9104\n",
            "Epoch 20/50\n",
            "59/59 [==============================] - 0s 3ms/step - loss: 0.3230 - accuracy: 0.9851 - val_loss: 4.7989 - val_accuracy: 0.9040\n",
            "Epoch 21/50\n",
            "59/59 [==============================] - 0s 3ms/step - loss: 0.2037 - accuracy: 0.9867 - val_loss: 4.6413 - val_accuracy: 0.9040\n",
            "Epoch 22/50\n",
            "59/59 [==============================] - 0s 3ms/step - loss: 0.2803 - accuracy: 0.9835 - val_loss: 3.9855 - val_accuracy: 0.9184\n",
            "Epoch 23/50\n",
            "59/59 [==============================] - 0s 3ms/step - loss: 0.4906 - accuracy: 0.9808 - val_loss: 5.1797 - val_accuracy: 0.8992\n",
            "Epoch 24/50\n",
            "59/59 [==============================] - 0s 3ms/step - loss: 0.3864 - accuracy: 0.9829 - val_loss: 4.3277 - val_accuracy: 0.9024\n",
            "Epoch 25/50\n",
            "59/59 [==============================] - 0s 3ms/step - loss: 0.2901 - accuracy: 0.9835 - val_loss: 4.3333 - val_accuracy: 0.9216\n",
            "Epoch 26/50\n",
            "59/59 [==============================] - 0s 3ms/step - loss: 0.2316 - accuracy: 0.9872 - val_loss: 4.7531 - val_accuracy: 0.8976\n",
            "Epoch 27/50\n",
            "59/59 [==============================] - 0s 3ms/step - loss: 0.2915 - accuracy: 0.9861 - val_loss: 3.9162 - val_accuracy: 0.9232\n",
            "Epoch 28/50\n",
            "59/59 [==============================] - 0s 3ms/step - loss: 0.3473 - accuracy: 0.9845 - val_loss: 4.1932 - val_accuracy: 0.9184\n",
            "Epoch 29/50\n",
            "59/59 [==============================] - 0s 3ms/step - loss: 0.0534 - accuracy: 0.9920 - val_loss: 3.9348 - val_accuracy: 0.9216\n",
            "Epoch 30/50\n",
            "59/59 [==============================] - 0s 3ms/step - loss: 0.0820 - accuracy: 0.9925 - val_loss: 4.4966 - val_accuracy: 0.9200\n",
            "Epoch 31/50\n",
            "59/59 [==============================] - 0s 3ms/step - loss: 0.3968 - accuracy: 0.9797 - val_loss: 4.6022 - val_accuracy: 0.9120\n",
            "Epoch 32/50\n",
            "59/59 [==============================] - 0s 3ms/step - loss: 0.5217 - accuracy: 0.9803 - val_loss: 4.9407 - val_accuracy: 0.9072\n",
            "Epoch 33/50\n",
            "59/59 [==============================] - 0s 3ms/step - loss: 0.3562 - accuracy: 0.9861 - val_loss: 4.4968 - val_accuracy: 0.9264\n",
            "Epoch 34/50\n",
            "59/59 [==============================] - 0s 3ms/step - loss: 0.2586 - accuracy: 0.9867 - val_loss: 4.5404 - val_accuracy: 0.9296\n",
            "Epoch 35/50\n",
            "59/59 [==============================] - 0s 3ms/step - loss: 0.2017 - accuracy: 0.9888 - val_loss: 4.6564 - val_accuracy: 0.9232\n",
            "Epoch 36/50\n",
            "59/59 [==============================] - 0s 3ms/step - loss: 0.2319 - accuracy: 0.9888 - val_loss: 5.5565 - val_accuracy: 0.9040\n",
            "Epoch 37/50\n",
            "59/59 [==============================] - 0s 3ms/step - loss: 0.3571 - accuracy: 0.9872 - val_loss: 5.0414 - val_accuracy: 0.9296\n",
            "Epoch 38/50\n",
            "59/59 [==============================] - 0s 3ms/step - loss: 0.4323 - accuracy: 0.9845 - val_loss: 4.8055 - val_accuracy: 0.9344\n",
            "Epoch 39/50\n",
            "59/59 [==============================] - 0s 3ms/step - loss: 0.0605 - accuracy: 0.9947 - val_loss: 4.9137 - val_accuracy: 0.9104\n",
            "Epoch 40/50\n",
            "59/59 [==============================] - 0s 3ms/step - loss: 0.0894 - accuracy: 0.9968 - val_loss: 4.5140 - val_accuracy: 0.9136\n",
            "Epoch 41/50\n",
            "59/59 [==============================] - 0s 3ms/step - loss: 0.0264 - accuracy: 0.9979 - val_loss: 4.2413 - val_accuracy: 0.9184\n",
            "Epoch 42/50\n",
            "59/59 [==============================] - 0s 3ms/step - loss: 0.1688 - accuracy: 0.9915 - val_loss: 4.6952 - val_accuracy: 0.9216\n",
            "Epoch 43/50\n",
            "59/59 [==============================] - 0s 3ms/step - loss: 0.1257 - accuracy: 0.9947 - val_loss: 4.0001 - val_accuracy: 0.9328\n",
            "Epoch 44/50\n",
            "59/59 [==============================] - 0s 3ms/step - loss: 0.1062 - accuracy: 0.9947 - val_loss: 4.8708 - val_accuracy: 0.9248\n",
            "Epoch 45/50\n",
            "59/59 [==============================] - 0s 3ms/step - loss: 0.0683 - accuracy: 0.9947 - val_loss: 4.3602 - val_accuracy: 0.9328\n",
            "Epoch 46/50\n",
            "59/59 [==============================] - 0s 3ms/step - loss: 0.2261 - accuracy: 0.9925 - val_loss: 4.8651 - val_accuracy: 0.9136\n",
            "Epoch 47/50\n",
            "59/59 [==============================] - 0s 3ms/step - loss: 0.1319 - accuracy: 0.9925 - val_loss: 4.1101 - val_accuracy: 0.9360\n",
            "Epoch 48/50\n",
            "59/59 [==============================] - 0s 3ms/step - loss: 0.2188 - accuracy: 0.9888 - val_loss: 7.0865 - val_accuracy: 0.9056\n",
            "Epoch 49/50\n",
            "59/59 [==============================] - 0s 3ms/step - loss: 0.3403 - accuracy: 0.9835 - val_loss: 5.7432 - val_accuracy: 0.9152\n",
            "Epoch 50/50\n",
            "59/59 [==============================] - 0s 3ms/step - loss: 0.3136 - accuracy: 0.9856 - val_loss: 5.1186 - val_accuracy: 0.9136\n"
          ],
          "name": "stdout"
        },
        {
          "output_type": "execute_result",
          "data": {
            "text/plain": [
              "<tensorflow.python.keras.callbacks.History at 0x7feed1d6d5f8>"
            ]
          },
          "metadata": {
            "tags": []
          },
          "execution_count": 214
        }
      ]
    },
    {
      "cell_type": "code",
      "metadata": {
        "id": "79PdRnNys9EB",
        "colab_type": "code",
        "outputId": "9d50d1e2-5de1-4f79-bb90-e2e0f41b7090",
        "colab": {
          "base_uri": "https://localhost:8080/",
          "height": 129
        }
      },
      "source": [
        "import tensorflow as tf\n",
        "from tensorflow import keras\n",
        "\n",
        "X_train, X_test, y_train, y_test = np.load(\"data.npy\",allow_pickle=True )\n",
        "\n",
        "X_train_scaled=[]\n",
        "X_test_scaled=[]\n",
        "for i in range(X_train.shape[0]):\n",
        "  a=cv2.resize(X_train[i],(28, 28))\n",
        "\n",
        "  X_train_scaled.append(a)\n",
        "  y_train[i]-=1\n",
        "X_train_scaled=np.asarray(X_train_scaled)\n",
        "\n",
        "for i in range(X_test.shape[0]):\n",
        "  a=cv2.resize(X_test[i],(28, 28))\n",
        "  X_test_scaled.append(a)\n",
        "  y_test[i]-=1\n",
        "\n",
        "X_test_scaled=np.asarray(X_test_scaled)\n",
        "\n",
        "rgb_X_train = np.repeat(X_train_scaled[..., np.newaxis], 1, -1)\n",
        "rgb_X_test = np.repeat(X_test_scaled[..., np.newaxis], 1, -1)\n",
        "\n",
        "print (\"number of training examples = \" + str(X_train.shape[0]))\n",
        "print (\"number of test examples = \" + str(X_test.shape[0]))\n",
        "print (\"X_train_scaled shape: \" + str(rgb_X_train.shape))\n",
        "print (\"Y_train shape: \" + str(Y_train.shape))\n",
        "print (\"X_test_scaled shape: \" + str(rgb_X_test.shape))\n",
        "print (\"Y_test shape: \" + str(Y_test.shape))\n",
        "\n"
      ],
      "execution_count": 0,
      "outputs": [
        {
          "output_type": "stream",
          "text": [
            "number of training examples = 1875\n",
            "number of test examples = 625\n",
            "X_train_scaled shape: (1875, 28, 28, 1)\n",
            "Y_train shape: (1875, 10)\n",
            "X_test_scaled shape: (625, 28, 28, 1)\n",
            "Y_test shape: (625, 10)\n"
          ],
          "name": "stdout"
        }
      ]
    },
    {
      "cell_type": "code",
      "metadata": {
        "id": "-seiZngVxV9d",
        "colab_type": "code",
        "outputId": "8a3372fd-a472-4543-ef96-9127a4fe243e",
        "colab": {
          "base_uri": "https://localhost:8080/",
          "height": 230
        }
      },
      "source": [
        "from kerastuner.applications import HyperResNet\n",
        "from kerastuner.tuners import Hyperband\n",
        "from kerastuner import HyperParameters\n",
        "\n",
        "hypermodel2 = HyperResNet(input_shape=(28, 28, 1), classes=10)\n",
        "\n",
        "hp = HyperParameters()\n",
        "hp.Choice('learning_rate', values=[1e-3, 1e-4])\n",
        "hp.Fixed('optimizer', value='adam')\n",
        "\n",
        "\n",
        "tuner_hb = Hyperband(\n",
        "            hypermodel2,\n",
        "            hyperparameters=hp,\n",
        "            tune_new_entries=False,\n",
        "            max_epochs=10,\n",
        "            objective='val_accuracy',\n",
        "            seed=42,\n",
        "            executions_per_trial=3\n",
        "        )\n",
        "\n",
        "tuner_hb.search(rgb_X_train, Y_train,epochs=2,batch_size=512, validation_split=0.1)\n"
      ],
      "execution_count": 0,
      "outputs": [
        {
          "output_type": "stream",
          "text": [
            "INFO:tensorflow:Reloading Oracle from existing project ./untitled_project/oracle.json\n"
          ],
          "name": "stdout"
        },
        {
          "output_type": "error",
          "ename": "NameError",
          "evalue": "ignored",
          "traceback": [
            "\u001b[0;31m---------------------------------------------------------------------------\u001b[0m",
            "\u001b[0;31mNameError\u001b[0m                                 Traceback (most recent call last)",
            "\u001b[0;32m<ipython-input-1-cf911ea758db>\u001b[0m in \u001b[0;36m<module>\u001b[0;34m()\u001b[0m\n\u001b[1;32m     20\u001b[0m         )\n\u001b[1;32m     21\u001b[0m \u001b[0;34m\u001b[0m\u001b[0m\n\u001b[0;32m---> 22\u001b[0;31m \u001b[0mtuner_hb\u001b[0m\u001b[0;34m.\u001b[0m\u001b[0msearch\u001b[0m\u001b[0;34m(\u001b[0m\u001b[0mrgb_X_train\u001b[0m\u001b[0;34m,\u001b[0m \u001b[0mY_train\u001b[0m\u001b[0;34m,\u001b[0m\u001b[0mepochs\u001b[0m\u001b[0;34m=\u001b[0m\u001b[0;36m2\u001b[0m\u001b[0;34m,\u001b[0m\u001b[0mbatch_size\u001b[0m\u001b[0;34m=\u001b[0m\u001b[0;36m512\u001b[0m\u001b[0;34m,\u001b[0m \u001b[0mvalidation_split\u001b[0m\u001b[0;34m=\u001b[0m\u001b[0;36m0.1\u001b[0m\u001b[0;34m)\u001b[0m\u001b[0;34m\u001b[0m\u001b[0;34m\u001b[0m\u001b[0m\n\u001b[0m",
            "\u001b[0;31mNameError\u001b[0m: name 'rgb_X_train' is not defined"
          ]
        }
      ]
    },
    {
      "cell_type": "code",
      "metadata": {
        "id": "RwybbOcNC3Tk",
        "colab_type": "code",
        "outputId": "0dabb328-69fe-4639-ba71-2dfd68b62461",
        "colab": {
          "base_uri": "https://localhost:8080/",
          "height": 129
        }
      },
      "source": [
        "import cv2\n",
        "\n",
        "X_train, X_test, y_train, y_test = np.load(\"data.npy\",allow_pickle=True )\n",
        "\n",
        "X_train_scaled=[]\n",
        "X_test_scaled=[]\n",
        "for i in range(X_train.shape[0]):\n",
        "  a=cv2.resize(X_train[i],(32,32))\n",
        "\n",
        "  X_train_scaled.append(a)\n",
        "  y_train[i]-=1\n",
        "X_train_scaled=np.asarray(X_train_scaled)\n",
        "\n",
        "for i in range(X_test.shape[0]):\n",
        "  a=cv2.resize(X_test[i],(32,32))\n",
        "\n",
        "  X_test_scaled.append(a)\n",
        "  y_test[i]-=1\n",
        "X_test_scaled=np.asarray(X_test_scaled)\n",
        "\n",
        "rgb_X_train = np.repeat(X_train_scaled[..., np.newaxis], 3, -1)\n",
        "rgb_X_test = np.repeat(X_test_scaled[..., np.newaxis], 3, -1)\n",
        "\n",
        "\n",
        "rgb_X_train = rgb_X_train.astype('float32')\n",
        "rgb_X_test = rgb_X_test.astype('float32')\n",
        "rgb_X_train /= 255\n",
        "rgb_X_test /= 255\n",
        "Y_train = np_utils.to_categorical(y_train) #Converts a class vector (integers) to binary class matrix.\n",
        "Y_test = np_utils.to_categorical(y_test)\n",
        "\n",
        "\n",
        "print (\"number of training examples = \" + str(X_train.shape[0]))\n",
        "print (\"number of test examples = \" + str(rgb_X_test.shape[0]))\n",
        "print (\"X_train_scaled shape: \" + str(rgb_X_train.shape))\n",
        "print (\"Y_train shape: \" + str(Y_train.shape))\n",
        "print (\"X_test_scaled shape: \" + str(rgb_X_test.shape))\n",
        "print (\"Y_test shape: \" + str(Y_test.shape))\n",
        "\n",
        "\n",
        "\n",
        "from tensorflow.keras.applications.resnet50 import ResNet50\n",
        "from tensorflow.keras.layers import Dense,Flatten,Dropout,Convolution2D,MaxPooling2D, Input\n",
        "from tensorflow.keras.models import Model\n",
        " \n",
        "import tensorflow as tf\n",
        "\n",
        "resnet=ResNet50(include_top=False,weights='imagenet',input_shape=(32,32,3),pooling='max')\n",
        "\n",
        "out=resnet.output\n",
        "out=Flatten()(out)\n",
        "out=Dense(2048,'selu')(out)\n",
        "out=Dropout(0.5)(out)\n",
        "out=Dense(10,'softmax')(out)\n",
        "res_model=Model(resnet.input,out)\n",
        "#res_model.summary()\n",
        "\n",
        "\n",
        "lr_schedule = tf.keras.optimizers.schedules.ExponentialDecay(\n",
        "    initial_learning_rate=1e-2,\n",
        "    decay_steps=10000,\n",
        "    decay_rate=0.9,\n",
        "    )\n",
        "res_model.compile(optimizer=tf.keras.optimizers.Adam(),loss='categorical_crossentropy',metrics=['accuracy'])"
      ],
      "execution_count": 0,
      "outputs": [
        {
          "output_type": "stream",
          "text": [
            "number of training examples = 1875\n",
            "number of test examples = 625\n",
            "X_train_scaled shape: (1875, 32, 32, 3)\n",
            "Y_train shape: (1875, 10)\n",
            "X_test_scaled shape: (625, 32, 32, 3)\n",
            "Y_test shape: (625, 10)\n"
          ],
          "name": "stdout"
        }
      ]
    },
    {
      "cell_type": "code",
      "metadata": {
        "id": "D7rWj9zVpCa1",
        "colab_type": "code",
        "colab": {}
      },
      "source": [
        ""
      ],
      "execution_count": 0,
      "outputs": []
    }
  ]
}