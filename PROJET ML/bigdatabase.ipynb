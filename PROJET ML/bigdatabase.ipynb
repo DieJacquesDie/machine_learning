{
 "cells": [
  {
   "cell_type": "code",
   "execution_count": 1,
   "metadata": {
    "_cell_guid": "b1076dfc-b9ad-4769-8c92-a6c4dae69d19",
    "_uuid": "8f2839f25d086af736a60e9eeb907d3b93b6e0e5"
   },
   "outputs": [
    {
     "name": "stdout",
     "output_type": "stream",
     "text": [
      "/kaggle/input/az-handwritten-alphabets-in-csv-format/A_Z Handwritten Data.csv\n",
      "/kaggle/input/az-handwritten-alphabets-in-csv-format/A_Z Handwritten Data/A_Z Handwritten Data.csv\n"
     ]
    }
   ],
   "source": [
    "# This Python 3 environment comes with many helpful analytics libraries installed\n",
    "# It is defined by the kaggle/python Docker image: https://github.com/kaggle/docker-python\n",
    "# For example, here's several helpful packages to load\n",
    "\n",
    "import numpy as np # linear algebra\n",
    "import pandas as pd # data processing, CSV file I/O (e.g. pd.read_csv)\n",
    "\n",
    "# Input data files are available in the read-only \"../input/\" directory\n",
    "# For example, running this (by clicking run or pressing Shift+Enter) will list all files under the input directory\n",
    "\n",
    "import os\n",
    "for dirname, _, filenames in os.walk('/kaggle/input'):\n",
    "    for filename in filenames:\n",
    "        print(os.path.join(dirname, filename))\n",
    "\n",
    "# You can write up to 5GB to the current directory (/kaggle/working/) that gets preserved as output when you create a version using \"Save & Run All\" \n",
    "# You can also write temporary files to /kaggle/temp/, but they won't be saved outside of the current session"
   ]
  },
  {
   "cell_type": "code",
   "execution_count": 2,
   "metadata": {},
   "outputs": [
    {
     "name": "stderr",
     "output_type": "stream",
     "text": [
      "Using TensorFlow backend.\n"
     ]
    }
   ],
   "source": [
    "import numpy as np \n",
    "import pandas as pd \n",
    "import matplotlib.pyplot as plt\n",
    "import seaborn as sns\n",
    "import os\n",
    "from sklearn.preprocessing import MinMaxScaler\n",
    "import tensorflow as tf\n",
    "from keras.models import Sequential\n",
    "from keras.layers import Dense\n",
    "from keras.layers import Dropout\n",
    "from keras.layers import Flatten\n",
    "from keras.layers.convolutional import Conv2D\n",
    "from keras.layers.convolutional import MaxPooling2D\n",
    "from keras import backend as K\n",
    "from keras.utils import np_utils\n",
    "from sklearn.model_selection import train_test_split\n",
    "from sklearn.metrics import confusion_matrix\n",
    "\n",
    "#ignore warning messages \n",
    "import warnings\n",
    "warnings.filterwarnings('ignore') \n",
    "\n",
    "sns.set()"
   ]
  },
  {
   "cell_type": "code",
   "execution_count": 3,
   "metadata": {
    "_cell_guid": "79c7e3d0-c299-4dcb-8224-4455121ee9b0",
    "_uuid": "d629ff2d2480ee46fbb7e2d37f6b5fab8052498a"
   },
   "outputs": [
    {
     "name": "stdout",
     "output_type": "stream",
     "text": [
      "       label  0.1  0.2  0.3  0.4  0.5  0.6  0.7  0.8  0.9  ...  0.639  0.640  \\\n",
      "0        0.0  0.0  0.0  0.0  0.0  0.0  0.0  0.0  0.0  0.0  ...    0.0    0.0   \n",
      "1        0.0  0.0  0.0  0.0  0.0  0.0  0.0  0.0  0.0  0.0  ...    0.0    0.0   \n",
      "2        0.0  0.0  0.0  0.0  0.0  0.0  0.0  0.0  0.0  0.0  ...    0.0    0.0   \n",
      "3        0.0  0.0  0.0  0.0  0.0  0.0  0.0  0.0  0.0  0.0  ...    0.0    0.0   \n",
      "4        0.0  0.0  0.0  0.0  0.0  0.0  0.0  0.0  0.0  0.0  ...    0.0    0.0   \n",
      "...      ...  ...  ...  ...  ...  ...  ...  ...  ...  ...  ...    ...    ...   \n",
      "99995   11.0  0.0  0.0  0.0  0.0  0.0  0.0  0.0  0.0  0.0  ...    0.0    0.0   \n",
      "99996   11.0  0.0  0.0  0.0  0.0  0.0  0.0  0.0  0.0  0.0  ...    0.0    0.0   \n",
      "99997   11.0  0.0  0.0  0.0  0.0  0.0  0.0  0.0  0.0  0.0  ...    0.0    0.0   \n",
      "99998   11.0  0.0  0.0  0.0  0.0  0.0  0.0  0.0  0.0  0.0  ...    0.0    0.0   \n",
      "99999   11.0  0.0  0.0  0.0  0.0  0.0  0.0  0.0  0.0  0.0  ...    0.0    0.0   \n",
      "\n",
      "       0.641  0.642  0.643  0.644  0.645  0.646  0.647  0.648  \n",
      "0        0.0    0.0    0.0    0.0    0.0    0.0    0.0    0.0  \n",
      "1        0.0    0.0    0.0    0.0    0.0    0.0    0.0    0.0  \n",
      "2        0.0    0.0    0.0    0.0    0.0    0.0    0.0    0.0  \n",
      "3        0.0    0.0    0.0    0.0    0.0    0.0    0.0    0.0  \n",
      "4        0.0    0.0    0.0    0.0    0.0    0.0    0.0    0.0  \n",
      "...      ...    ...    ...    ...    ...    ...    ...    ...  \n",
      "99995    0.0    0.0    0.0    0.0    0.0    0.0    0.0    0.0  \n",
      "99996    0.0    0.0    0.0    0.0    0.0    0.0    0.0    0.0  \n",
      "99997    0.0    0.0    0.0    0.0    0.0    0.0    0.0    0.0  \n",
      "99998    0.0    0.0    0.0    0.0    0.0    0.0    0.0    0.0  \n",
      "99999    0.0    0.0    0.0    0.0    0.0    0.0    0.0    0.0  \n",
      "\n",
      "[100000 rows x 785 columns]\n",
      "(372450, 785)\n",
      "(83010, 784)\n"
     ]
    }
   ],
   "source": [
    "dataset = pd.read_csv(\"../input/az-handwritten-alphabets-in-csv-format/A_Z Handwritten Data.csv\").astype('float32')\n",
    "dataset.rename(columns={'0':'label'}, inplace=True)\n",
    "\n",
    "#alphabets_mapper = {0:'A',1:'B',2:'C',3:'D',4:'E',5:'F',6:'G',7:'H',8:'I',9:'J',10:'K',11:'L',12:'M',13:'N',14:'O',15:'P',16:'Q',17:'R',18:'S',19:'T',20:'U',21:'V',22:'W',23:'X',24:'Y',25:'Z'} \n",
    "\n",
    "#dataset['label'] = dataset['label'].map(alphabets_mapper)\n",
    "\n",
    "print(dataset.head(100000))\n",
    "print(dataset.shape)\n",
    "dataset = dataset.set_index(\"label\")\n",
    "dataset = dataset.drop(0, axis=0)\n",
    "dataset = dataset.drop(11, axis=0)\n",
    "dataset = dataset.drop(12, axis=0)\n",
    "dataset = dataset.drop(13, axis=0)\n",
    "dataset = dataset.drop(14, axis=0)\n",
    "dataset = dataset.drop(15, axis=0)\n",
    "dataset = dataset.drop(16, axis=0)\n",
    "dataset = dataset.drop(17, axis=0)\n",
    "dataset = dataset.drop(18, axis=0)\n",
    "dataset = dataset.drop(19, axis=0)\n",
    "dataset = dataset.drop(20, axis=0)\n",
    "dataset = dataset.drop(21, axis=0)\n",
    "dataset = dataset.drop(22, axis=0)\n",
    "dataset = dataset.drop(23, axis=0)\n",
    "dataset = dataset.drop(24, axis=0)\n",
    "dataset = dataset.drop(25, axis=0)\n",
    "\n",
    "print(dataset.shape)"
   ]
  },
  {
   "cell_type": "code",
   "execution_count": 4,
   "metadata": {},
   "outputs": [
    {
     "name": "stdout",
     "output_type": "stream",
     "text": [
      "       0.1  0.2  0.3  0.4  0.5  0.6  0.7  0.8  0.9  0.10  ...  0.639  0.640  \\\n",
      "label                                                     ...                 \n",
      "1.0    0.0  0.0  0.0  0.0  0.0  0.0  0.0  0.0  0.0   0.0  ...    0.0    0.0   \n",
      "\n",
      "       0.641  0.642  0.643  0.644  0.645  0.646  0.647  0.648  \n",
      "label                                                          \n",
      "1.0      0.0    0.0    0.0    0.0    0.0    0.0    0.0    0.0  \n",
      "\n",
      "[1 rows x 784 columns]\n",
      "   label  0.1  0.2  0.3  0.4  0.5  0.6  0.7  0.8  0.9  ...  0.639  0.640  \\\n",
      "0    1.0  0.0  0.0  0.0  0.0  0.0  0.0  0.0  0.0  0.0  ...    0.0    0.0   \n",
      "\n",
      "   0.641  0.642  0.643  0.644  0.645  0.646  0.647  0.648  \n",
      "0    0.0    0.0    0.0    0.0    0.0    0.0    0.0    0.0  \n",
      "\n",
      "[1 rows x 785 columns]\n",
      "   label  0.1  0.2  0.3  0.4  0.5  0.6  0.7  0.8  0.9  ...  0.639  0.640  \\\n",
      "0    1.0  0.0  0.0  0.0  0.0  0.0  0.0  0.0  0.0  0.0  ...    0.0    0.0   \n",
      "1    1.0  0.0  0.0  0.0  0.0  0.0  0.0  0.0  0.0  0.0  ...    0.0    0.0   \n",
      "2    1.0  0.0  0.0  0.0  0.0  0.0  0.0  0.0  0.0  0.0  ...    0.0    0.0   \n",
      "3    1.0  0.0  0.0  0.0  0.0  0.0  0.0  0.0  0.0  0.0  ...    0.0    0.0   \n",
      "4    1.0  0.0  0.0  0.0  0.0  0.0  0.0  0.0  0.0  0.0  ...    0.0    0.0   \n",
      "\n",
      "   0.641  0.642  0.643  0.644  0.645  0.646  0.647  0.648  \n",
      "0    0.0    0.0    0.0    0.0    0.0    0.0    0.0    0.0  \n",
      "1    0.0    0.0    0.0    0.0    0.0    0.0    0.0    0.0  \n",
      "2    0.0    0.0    0.0    0.0    0.0    0.0    0.0    0.0  \n",
      "3    0.0    0.0    0.0    0.0    0.0    0.0    0.0    0.0  \n",
      "4    0.0    0.0    0.0    0.0    0.0    0.0    0.0    0.0  \n",
      "\n",
      "[5 rows x 785 columns]\n"
     ]
    }
   ],
   "source": [
    "print(dataset.head(1))\n",
    "dataset=dataset.reset_index(drop=False)\n",
    "print(dataset.head(1))\n",
    "X = dataset.drop('label',axis = 1)\n",
    "y = dataset['label']\n",
    "print(dataset.head(5))"
   ]
  },
  {
   "cell_type": "code",
   "execution_count": 5,
   "metadata": {},
   "outputs": [
    {
     "name": "stdout",
     "output_type": "stream",
     "text": [
      "55609    6.0\n",
      "1331     1.0\n",
      "34737    3.0\n",
      "7353     1.0\n",
      "24464    2.0\n",
      "        ... \n",
      "53657    5.0\n",
      "41029    3.0\n",
      "38624    3.0\n",
      "33209    3.0\n",
      "45080    4.0\n",
      "Name: label, Length: 24903, dtype: float64\n",
      "(24903,)\n"
     ]
    }
   ],
   "source": [
    "X_train, X_test, y_train, y_test = train_test_split(X,y,test_size=0.3)\n",
    "\n",
    "    \n",
    "# scale data\n",
    "standard_scaler = MinMaxScaler()\n",
    "standard_scaler.fit(X_train)\n",
    "\n",
    "X_train = standard_scaler.transform(X_train)\n",
    "X_test = standard_scaler.transform(X_test)\n",
    "\n",
    "X_train = X_train.reshape(X_train.shape[0], 28, 28, 1).astype('float32')\n",
    "X_test = X_test.reshape(X_test.shape[0], 28, 28, 1).astype('float32')\n",
    "\n",
    "print(y_test)\n",
    " #for i in range(len(y_test)):\n",
    "    #changement(y_test[i])\n",
    "\n",
    "print(y_test.shape)\n",
    "y_train = np_utils.to_categorical(y_train)\n",
    "y_test = np_utils.to_categorical(y_test)\n"
   ]
  },
  {
   "cell_type": "code",
   "execution_count": 6,
   "metadata": {},
   "outputs": [
    {
     "name": "stdout",
     "output_type": "stream",
     "text": [
      "(58107, 11)\n",
      "(58107, 28, 28, 1)\n"
     ]
    }
   ],
   "source": [
    "print(np.shape(y_train))\n",
    "print(np.shape(X_train))"
   ]
  },
  {
   "cell_type": "code",
   "execution_count": 7,
   "metadata": {},
   "outputs": [
    {
     "name": "stdout",
     "output_type": "stream",
     "text": [
      "Model: \"model\"\n",
      "_________________________________________________________________\n",
      "Layer (type)                 Output Shape              Param #   \n",
      "=================================================================\n",
      "input_1 (InputLayer)         [(None, 28, 28, 1)]       0         \n",
      "_________________________________________________________________\n",
      "conv2d (Conv2D)              (None, 28, 28, 32)        320       \n",
      "_________________________________________________________________\n",
      "conv2d_1 (Conv2D)            (None, 28, 28, 64)        18496     \n",
      "_________________________________________________________________\n",
      "dropout (Dropout)            (None, 28, 28, 64)        0         \n",
      "_________________________________________________________________\n",
      "max_pooling2d (MaxPooling2D) (None, 14, 14, 64)        0         \n",
      "_________________________________________________________________\n",
      "flatten (Flatten)            (None, 12544)             0         \n",
      "_________________________________________________________________\n",
      "dense (Dense)                (None, 256)               3211520   \n",
      "_________________________________________________________________\n",
      "dropout_1 (Dropout)          (None, 256)               0         \n",
      "_________________________________________________________________\n",
      "dense_1 (Dense)              (None, 11)                2827      \n",
      "=================================================================\n",
      "Total params: 3,233,163\n",
      "Trainable params: 3,233,163\n",
      "Non-trainable params: 0\n",
      "_________________________________________________________________\n",
      "Epoch 1/30\n",
      "57/57 [==============================] - 3s 48ms/step - loss: 0.4958 - accuracy: 0.8410 - val_loss: 0.1314 - val_accuracy: 0.9643\n",
      "Epoch 2/30\n",
      "57/57 [==============================] - 2s 40ms/step - loss: 0.1144 - accuracy: 0.9668 - val_loss: 0.0691 - val_accuracy: 0.9820\n",
      "Epoch 3/30\n",
      "57/57 [==============================] - 2s 41ms/step - loss: 0.0726 - accuracy: 0.9788 - val_loss: 0.0536 - val_accuracy: 0.9861\n",
      "Epoch 4/30\n",
      "57/57 [==============================] - 2s 41ms/step - loss: 0.0578 - accuracy: 0.9827 - val_loss: 0.0440 - val_accuracy: 0.9894\n",
      "Epoch 5/30\n",
      "57/57 [==============================] - 2s 42ms/step - loss: 0.0427 - accuracy: 0.9872 - val_loss: 0.0364 - val_accuracy: 0.9908\n",
      "Epoch 6/30\n",
      "57/57 [==============================] - 2s 41ms/step - loss: 0.0377 - accuracy: 0.9885 - val_loss: 0.0324 - val_accuracy: 0.9916\n",
      "Epoch 7/30\n",
      "57/57 [==============================] - 2s 40ms/step - loss: 0.0332 - accuracy: 0.9896 - val_loss: 0.0310 - val_accuracy: 0.9926\n",
      "Epoch 8/30\n",
      "57/57 [==============================] - 2s 42ms/step - loss: 0.0273 - accuracy: 0.9915 - val_loss: 0.0270 - val_accuracy: 0.9933\n",
      "Epoch 9/30\n",
      "57/57 [==============================] - 2s 43ms/step - loss: 0.0237 - accuracy: 0.9928 - val_loss: 0.0251 - val_accuracy: 0.9939\n",
      "Epoch 10/30\n",
      "57/57 [==============================] - 2s 43ms/step - loss: 0.0213 - accuracy: 0.9933 - val_loss: 0.0241 - val_accuracy: 0.9938\n",
      "Epoch 11/30\n",
      "57/57 [==============================] - 2s 42ms/step - loss: 0.0191 - accuracy: 0.9941 - val_loss: 0.0251 - val_accuracy: 0.9941\n",
      "Epoch 12/30\n",
      "57/57 [==============================] - 2s 41ms/step - loss: 0.0172 - accuracy: 0.9946 - val_loss: 0.0222 - val_accuracy: 0.9947\n",
      "Epoch 13/30\n",
      "57/57 [==============================] - 2s 41ms/step - loss: 0.0171 - accuracy: 0.9945 - val_loss: 0.0213 - val_accuracy: 0.9957\n",
      "Epoch 14/30\n",
      "57/57 [==============================] - 2s 42ms/step - loss: 0.0150 - accuracy: 0.9951 - val_loss: 0.0209 - val_accuracy: 0.9953\n",
      "Epoch 15/30\n",
      "57/57 [==============================] - 2s 40ms/step - loss: 0.0140 - accuracy: 0.9952 - val_loss: 0.0229 - val_accuracy: 0.9950\n",
      "Epoch 16/30\n",
      "57/57 [==============================] - 2s 41ms/step - loss: 0.0136 - accuracy: 0.9957 - val_loss: 0.0195 - val_accuracy: 0.9951\n",
      "Epoch 17/30\n",
      "57/57 [==============================] - 2s 41ms/step - loss: 0.0110 - accuracy: 0.9963 - val_loss: 0.0208 - val_accuracy: 0.9953\n",
      "Epoch 18/30\n",
      "57/57 [==============================] - 2s 41ms/step - loss: 0.0111 - accuracy: 0.9965 - val_loss: 0.0219 - val_accuracy: 0.9959\n",
      "Epoch 19/30\n",
      "57/57 [==============================] - 2s 41ms/step - loss: 0.0108 - accuracy: 0.9966 - val_loss: 0.0221 - val_accuracy: 0.9959\n",
      "Epoch 20/30\n",
      "57/57 [==============================] - 2s 41ms/step - loss: 0.0104 - accuracy: 0.9965 - val_loss: 0.0204 - val_accuracy: 0.9963\n",
      "Epoch 21/30\n",
      "57/57 [==============================] - 2s 41ms/step - loss: 0.0094 - accuracy: 0.9970 - val_loss: 0.0221 - val_accuracy: 0.9956\n",
      "Epoch 22/30\n",
      "57/57 [==============================] - 2s 41ms/step - loss: 0.0081 - accuracy: 0.9973 - val_loss: 0.0229 - val_accuracy: 0.9955\n",
      "Epoch 23/30\n",
      "57/57 [==============================] - 2s 41ms/step - loss: 0.0094 - accuracy: 0.9966 - val_loss: 0.0196 - val_accuracy: 0.9961\n",
      "Epoch 24/30\n",
      "57/57 [==============================] - 2s 41ms/step - loss: 0.0095 - accuracy: 0.9967 - val_loss: 0.0214 - val_accuracy: 0.9962\n",
      "Epoch 25/30\n",
      "57/57 [==============================] - 2s 41ms/step - loss: 0.0075 - accuracy: 0.9976 - val_loss: 0.0219 - val_accuracy: 0.9959\n",
      "Epoch 26/30\n",
      "57/57 [==============================] - 2s 41ms/step - loss: 0.0078 - accuracy: 0.9973 - val_loss: 0.0214 - val_accuracy: 0.9960\n",
      "Epoch 27/30\n",
      "57/57 [==============================] - 2s 42ms/step - loss: 0.0081 - accuracy: 0.9972 - val_loss: 0.0192 - val_accuracy: 0.9965\n",
      "Epoch 28/30\n",
      "57/57 [==============================] - 2s 42ms/step - loss: 0.0058 - accuracy: 0.9982 - val_loss: 0.0215 - val_accuracy: 0.9961\n",
      "Epoch 29/30\n",
      "57/57 [==============================] - 2s 41ms/step - loss: 0.0062 - accuracy: 0.9977 - val_loss: 0.0209 - val_accuracy: 0.9963\n",
      "Epoch 30/30\n",
      "57/57 [==============================] - 2s 41ms/step - loss: 0.0061 - accuracy: 0.9980 - val_loss: 0.0229 - val_accuracy: 0.9957\n"
     ]
    },
    {
     "data": {
      "image/png": "[encoded data removed]",
      "text/plain": [
       "<Figure size 432x288 with 1 Axes>"
      ]
     },
     "metadata": {},
     "output_type": "display_data"
    },
    {
     "data": {
      "image/png": "[encoded data removed]",
      "text/plain": [
       "<Figure size 432x288 with 1 Axes>"
      ]
     },
     "metadata": {},
     "output_type": "display_data"
    }
   ],
   "source": [
    "from tensorflow.keras.optimizers import SGD\n",
    "import time\n",
    "from tensorflow.keras.models import Sequential, Model\n",
    "from tensorflow.keras.layers import Dense, Flatten, Dropout, Convolution1D,MaxPooling1D, Convolution2D, MaxPooling2D, Input\n",
    "\n",
    "\n",
    "\n",
    "def affiche(history): \n",
    "  # summarize history for accuracy \n",
    "  plt.plot(history.history['accuracy']) \n",
    "  plt.plot(history.history['val_accuracy']) \n",
    "  plt.title('model accuracy') \n",
    "  plt.ylabel('accuracy') \n",
    "  plt.xlabel('epoch') \n",
    "  plt.legend(['train', 'test'], loc='upper left') \n",
    "  plt.grid()\n",
    "  plt.show() \n",
    "  # summarize history for loss \n",
    "  plt.plot(history.history['loss']) \n",
    "  plt.plot(history.history['val_loss']) \n",
    "  plt.title('model loss') \n",
    "  plt.ylabel('loss') \n",
    "  plt.xlabel('epoch') \n",
    "  plt.legend(['train', 'test'], loc='upper left') \n",
    "  plt.grid()\n",
    "  plt.show()\n",
    "\n",
    "\n",
    "# Define model architecture\n",
    "inputs = Input(shape=(28,28,1)) \n",
    "x = inputs \n",
    "filtre32=Convolution2D(32,(3,3), activation='relu',padding='same')(x)\n",
    "filtre64=Convolution2D(64,(3,3), activation='relu',padding='same')(filtre32)\n",
    "dropout1=Dropout(0.25)(filtre64)\n",
    "p= MaxPooling2D(pool_size=2, strides=2,padding='same')(dropout1)\n",
    "f=Flatten()(p) \n",
    "\n",
    "couche=Dense(256,activation='relu')(f)\n",
    "dropout=Dropout(0.5)(couche)\n",
    "outputs=Dense(11, activation='softmax')(dropout) \n",
    "model = Model(inputs, outputs) \n",
    "\n",
    "model.summary()\n",
    "lr=0.1 \n",
    "batch_size=1024\n",
    "epochs=30\n",
    "sgd1=SGD(lr=lr) #stochastic gradient descent with a fixed learning rate\n",
    "\n",
    "model.compile(loss='categorical_crossentropy', optimizer='adam', metrics=['accuracy']) \n",
    "tps1 = time.clock() #on regarde le temps que ça tourne\n",
    "history =model.fit(X_train, y_train, batch_size=batch_size, epochs=epochs,\n",
    "                   verbose=1,validation_data=(X_test, y_test)) \n",
    "tps2 = time.clock()\n",
    "affiche(history) "
   ]
  },
  {
   "cell_type": "code",
   "execution_count": 8,
   "metadata": {},
   "outputs": [
    {
     "name": "stdout",
     "output_type": "stream",
     "text": [
      "779/779 [==============================] - 2s 3ms/step - loss: 0.0229 - accuracy: 0.9957\n",
      "[0.02287624590098858, 0.9957435131072998]\n",
      "Test loss: 0.02287624590098858\n",
      "Test accuracy: 0.9957435131072998\n"
     ]
    }
   ],
   "source": [
    "score = model.evaluate(X_test, y_test, verbose=1)\n",
    "\n",
    "# Print Metrics\n",
    "print (score)\n",
    "print('Test loss:', score[0])\n",
    "print('Test accuracy:', score[1])"
   ]
  }
 ],
 "metadata": {
  "kernelspec": {
   "display_name": "Python 3",
   "language": "python",
   "name": "python3"
  },
  "language_info": {
   "codemirror_mode": {
    "name": "ipython",
    "version": 3
   },
   "file_extension": ".py",
   "mimetype": "text/x-python",
   "name": "python",
   "nbconvert_exporter": "python",
   "pygments_lexer": "ipython3",
   "version": "3.7.6"
  }
 },
 "nbformat": 4,
 "nbformat_minor": 4
}
